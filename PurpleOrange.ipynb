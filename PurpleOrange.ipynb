{
  "nbformat": 4,
  "nbformat_minor": 0,
  "metadata": {
    "colab": {
      "provenance": []
    },
    "kernelspec": {
      "name": "python3",
      "display_name": "Python 3"
    },
    "language_info": {
      "name": "python"
    }
  },
  "cells": [
    {
      "cell_type": "code",
      "source": [
        "!pip install pyspark"
      ],
      "metadata": {
        "colab": {
          "base_uri": "https://localhost:8080/"
        },
        "id": "QBXz25NSxtRz",
        "outputId": "607ad46e-0be0-4013-ba35-7a89e2ccd50e"
      },
      "execution_count": 5,
      "outputs": [
        {
          "output_type": "stream",
          "name": "stdout",
          "text": [
            "Looking in indexes: https://pypi.org/simple, https://us-python.pkg.dev/colab-wheels/public/simple/\n",
            "Collecting pyspark\n",
            "  Downloading pyspark-3.4.0.tar.gz (310.8 MB)\n",
            "\u001b[2K     \u001b[90m━━━━━━━━━━━━━━━━━━━━━━━━━━━━━━━━━━━━━━━\u001b[0m \u001b[32m310.8/310.8 MB\u001b[0m \u001b[31m4.5 MB/s\u001b[0m eta \u001b[36m0:00:00\u001b[0m\n",
            "\u001b[?25h  Preparing metadata (setup.py) ... \u001b[?25l\u001b[?25hdone\n",
            "Requirement already satisfied: py4j==0.10.9.7 in /usr/local/lib/python3.10/dist-packages (from pyspark) (0.10.9.7)\n",
            "Building wheels for collected packages: pyspark\n",
            "  Building wheel for pyspark (setup.py) ... \u001b[?25l\u001b[?25hdone\n",
            "  Created wheel for pyspark: filename=pyspark-3.4.0-py2.py3-none-any.whl size=311317145 sha256=b9dd35ff1678e4aa8d0acd255efda199281e88884c79816c3c37010664aedcd7\n",
            "  Stored in directory: /root/.cache/pip/wheels/7b/1b/4b/3363a1d04368e7ff0d408e57ff57966fcdf00583774e761327\n",
            "Successfully built pyspark\n",
            "Installing collected packages: pyspark\n",
            "Successfully installed pyspark-3.4.0\n"
          ]
        }
      ]
    },
    {
      "cell_type": "code",
      "source": [
        "import pandas as pd\n",
        "from pyspark.sql import SparkSession\n",
        "from pyspark.sql.types import *\n",
        "from pyspark.sql.functions import *"
      ],
      "metadata": {
        "id": "1LvnmiZywjZo"
      },
      "execution_count": 8,
      "outputs": []
    },
    {
      "cell_type": "code",
      "source": [
        "spark = SparkSession.builder.appName(\"IPL\").getOrCreate()"
      ],
      "metadata": {
        "id": "bz397MLIwrK9"
      },
      "execution_count": 7,
      "outputs": []
    },
    {
      "cell_type": "code",
      "source": [
        "schea = StructType([StructField('season', IntegerType(), True),\n",
        "  StructField('match_id', IntegerType(), True),\n",
        "  StructField('match_name', StringType(), True),\n",
        "  StructField('home_team', StringType(), True),\n",
        "  StructField('away_team', StringType(), True),\n",
        "  StructField('venue', StringType(), True),\n",
        "  StructField('city', StringType(), True),\n",
        "  StructField('country', StringType(), True),\n",
        "  StructField('current_innings', StringType(), True),\n",
        "  StructField('innings_id', IntegerType(), True),\n",
        "  StructField('name', StringType(), True),\n",
        "  StructField('fullName', StringType(), True),\n",
        "  StructField('runs', IntegerType(), True),\n",
        "  StructField('ballsFaced', IntegerType(), True),\n",
        "  StructField('minutes', IntegerType(), True),\n",
        "  StructField('fours', IntegerType(), True),\n",
        "  StructField('sixes', IntegerType(), True),\n",
        "  StructField('strikeRate', FloatType(), True),\n",
        "  StructField('season', StringType(), True),\n",
        "  StructField('captain', StringType(), True),\n",
        "  StructField('isNotOut', BooleanType(), True),\n",
        "  StructField('runningScore', IntegerType(), True),\n",
        "  StructField('runningOver', IntegerType(), True),\n",
        "  StructField('shortText', FloatType(), True),\n",
        "  StructField('commentary', StringType(), True),\n",
        "  StructField('link', StringType(), True)])"
      ],
      "metadata": {
        "id": "Q8eSkKFp2krT"
      },
      "execution_count": 10,
      "outputs": []
    },
    {
      "cell_type": "code",
      "source": [
        "data = spark.read.option(\"header\",True).option(\"inferSchema\",True).csv('all_season_batting_card.csv')"
      ],
      "metadata": {
        "id": "iwpD_II8k1JD"
      },
      "execution_count": 9,
      "outputs": []
    },
    {
      "cell_type": "code",
      "source": [
        "dt = data.groupBy(\"season\",\"fullName\").agg(sum('runs').cast('int').alias('SumRuns'),sum('ballsFaced').cast('int').alias('TotalBalls'),avg('runs').alias('AvgRuns'),count('fullName').alias('TotalMatches'),max('runs').cast('int').alias('HS'),sum('fours').cast('int').alias('Fours'),sum('sixes').cast('int').alias('Sixes'))"
      ],
      "metadata": {
        "id": "o8AIu0CbvwXX"
      },
      "execution_count": 11,
      "outputs": []
    },
    {
      "cell_type": "code",
      "source": [
        "dt = dt.withColumn(\"StrikeRate\",(col('SumRuns')/col('TotalMatches'))*10)"
      ],
      "metadata": {
        "id": "69eANrMb_olW"
      },
      "execution_count": 15,
      "outputs": []
    },
    {
      "cell_type": "code",
      "source": [
        "dt.show()"
      ],
      "metadata": {
        "id": "z0HwrIQ0u4iK",
        "outputId": "c41a9b08-7cb9-43c0-c99c-91b023e68262",
        "colab": {
          "base_uri": "https://localhost:8080/"
        }
      },
      "execution_count": 66,
      "outputs": [
        {
          "output_type": "stream",
          "name": "stdout",
          "text": [
            "+------+------------------+-------+----------+------------------+------------+---+-----+-----+------------------+\n",
            "|season|          fullName|SumRuns|TotalBalls|           AvgRuns|TotalMatches| HS|Fours|Sixes|        StrikeRate|\n",
            "+------+------------------+-------+----------+------------------+------------+---+-----+-----+------------------+\n",
            "|  2020|       Priyam Garg|    133|       111|              13.3|          10| 51|    9|    4|             133.0|\n",
            "|  2019|    Rahul Tripathi|    141|       118|20.142857142857142|           7| 50|   13|    2|201.42857142857142|\n",
            "|  2019|       Trent Boult|      7|         4|2.3333333333333335|           3|  6|    0|    1|23.333333333333336|\n",
            "|  2015|       David Wiese|    122|        86|17.428571428571427|           7| 47|   12|    4|174.28571428571428|\n",
            "|  2013|     Robin Uthappa|    434|       371|            27.125|          16| 75|   42|   12|            271.25|\n",
            "|  2013|      Albie Morkel|     46|        37|15.333333333333334|           3| 23|    2|    3|153.33333333333334|\n",
            "|  2012|  Kumar Sangakkara|    200|       184|16.666666666666668|          12| 82|   21|    4|166.66666666666669|\n",
            "|  2011|  Daniel Christian|    190|       159|14.615384615384615|          13| 30|    9|    7|146.15384615384616|\n",
            "|  2011|    Abhishek Nayar|     61|        67| 6.777777777777778|           9| 17|    9|    0| 67.77777777777777|\n",
            "|  2010|      Rahul Sharma|     29|        26|              7.25|           4| 14|    3|    1|              72.5|\n",
            "|  2022|    Shikhar Dhawan|    460|       375|32.857142857142854|          14| 88|   47|   12|328.57142857142856|\n",
            "|  2022|Narayan Jagadeesan|     40|        37|              20.0|           2| 39|    3|    1|             200.0|\n",
            "|  2021|    Venkatesh Iyer|    370|       288|              37.0|          10| 67|   37|   14|             370.0|\n",
            "|  2019|Krishnappa Gowtham|     18|        19|               4.5|           4|  9|    1|    1|              45.0|\n",
            "|  2016| Farhaan Behardien|     14|        13| 4.666666666666667|           3|  9|    2|    0| 46.66666666666667|\n",
            "|  2016|       Imran Tahir|      5|         7|               5.0|           1|  5|    1|    0|              50.0|\n",
            "|  2015|        Axar Patel|    206|       174|17.166666666666668|          12| 40|   13|    8|171.66666666666669|\n",
            "|  2015|       Karn Sharma|    104|        85|11.555555555555555|           9| 32|    3|    6|115.55555555555556|\n",
            "|  2013|      David Warner|    410|       323|            25.625|          16| 77|   41|   14|            256.25|\n",
            "|  2013|     Andre Russell|     11|        14|               5.5|           2|  7|    0|    0|              55.0|\n",
            "+------+------------------+-------+----------+------------------+------------+---+-----+-----+------------------+\n",
            "only showing top 20 rows\n",
            "\n"
          ]
        }
      ]
    },
    {
      "cell_type": "code",
      "source": [
        "dz = data.filter(col('runs')>=50)\n",
        "dz = dz.groupby('season','fullName').agg(count('fullName').alias('Fifty'))"
      ],
      "metadata": {
        "id": "q9ViIPRk8Qyp"
      },
      "execution_count": 17,
      "outputs": []
    },
    {
      "cell_type": "code",
      "source": [
        "dp = data.filter(col('runs')>=100)\n",
        "dp = dp.groupby('season','fullName').agg(count('fullName').alias('Hundred'))"
      ],
      "metadata": {
        "id": "KDhsctOHFLFX"
      },
      "execution_count": 18,
      "outputs": []
    },
    {
      "cell_type": "code",
      "source": [
        "dp = dp.withColumnRenamed(\"season\",\"sosn\").withColumnRenamed(\"fullName\",\"fnames\")\n",
        "dz = dz.withColumnRenamed(\"season\",\"sosn\").withColumnRenamed(\"fullName\",\"fnames\")\n",
        "dp.show()"
      ],
      "metadata": {
        "colab": {
          "base_uri": "https://localhost:8080/"
        },
        "id": "Te1yvFGsHklZ",
        "outputId": "d5acc470-e8ef-4056-dab3-501d9a4d7d8f"
      },
      "execution_count": 19,
      "outputs": [
        {
          "output_type": "stream",
          "name": "stdout",
          "text": [
            "+----+----------------+-------+\n",
            "|sosn|          fnames|Hundred|\n",
            "+----+----------------+-------+\n",
            "|2019|  Jonny Bairstow|      1|\n",
            "|2018|    Rishabh Pant|      1|\n",
            "|2021|    Sanju Samson|      1|\n",
            "|2019|    David Warner|      1|\n",
            "|2019|        KL Rahul|      1|\n",
            "|2020|        KL Rahul|      1|\n",
            "|2018|   Ambati Rayudu|      1|\n",
            "|2015|Brendon McCullum|      1|\n",
            "|2013|    David Miller|      1|\n",
            "|2022| Quinton de Kock|      1|\n",
            "|2016|    Steven Smith|      1|\n",
            "|2014| Virender Sehwag|      1|\n",
            "|2017|      Ben Stokes|      1|\n",
            "|2011|  Adam Gilchrist|      1|\n",
            "|2020|  Shikhar Dhawan|      2|\n",
            "|2021| Ruturaj Gaikwad|      1|\n",
            "|2022|   Rajat Patidar|      1|\n",
            "|2016| Quinton de Kock|      1|\n",
            "|2013|    Shane Watson|      1|\n",
            "|2021|     Jos Buttler|      1|\n",
            "+----+----------------+-------+\n",
            "only showing top 20 rows\n",
            "\n"
          ]
        }
      ]
    },
    {
      "cell_type": "code",
      "source": [
        "cond2 = [dt.season==dz.sosn, dt.fullName==dz.fnames]"
      ],
      "metadata": {
        "id": "c8zwNNGLKs9a"
      },
      "execution_count": 20,
      "outputs": []
    },
    {
      "cell_type": "code",
      "source": [
        "cond1 = [dt.season==dp.sosn, dt.fullName==dp.fnames]"
      ],
      "metadata": {
        "id": "iScSq89ryuqu"
      },
      "execution_count": 21,
      "outputs": []
    },
    {
      "cell_type": "code",
      "source": [
        "dff = dt.join(dp,cond1,'left')"
      ],
      "metadata": {
        "id": "7BDEEjzdIJbw"
      },
      "execution_count": 22,
      "outputs": []
    },
    {
      "cell_type": "code",
      "source": [
        "df2 = dff.drop('sosn','fnames')"
      ],
      "metadata": {
        "id": "j47NRno-IILa"
      },
      "execution_count": 23,
      "outputs": []
    },
    {
      "cell_type": "code",
      "source": [
        "finaldf = df2.join(dz,cond2,'left')"
      ],
      "metadata": {
        "id": "4D5r2tl9NytL"
      },
      "execution_count": 24,
      "outputs": []
    },
    {
      "cell_type": "code",
      "source": [
        "finaldf = finaldf.drop('sosn','fnames')"
      ],
      "metadata": {
        "id": "59imGTAnOYAe"
      },
      "execution_count": 25,
      "outputs": []
    },
    {
      "cell_type": "code",
      "source": [
        "finaldf.show()"
      ],
      "metadata": {
        "colab": {
          "base_uri": "https://localhost:8080/"
        },
        "id": "XVi2m2vwNsQK",
        "outputId": "b4030c4d-0e60-44bf-f477-d0a3661b9d07"
      },
      "execution_count": 26,
      "outputs": [
        {
          "output_type": "stream",
          "name": "stdout",
          "text": [
            "+------+------------------+-------+----------+------------------+------------+---+-----+-----+------------------+-------+-----+\n",
            "|season|          fullName|SumRuns|TotalBalls|           AvgRuns|TotalMatches| HS|Fours|Sixes|        StrikeRate|Hundred|Fifty|\n",
            "+------+------------------+-------+----------+------------------+------------+---+-----+-----+------------------+-------+-----+\n",
            "|  2020|       Priyam Garg|    133|       111|              13.3|          10| 51|    9|    4|             133.0|   null|    1|\n",
            "|  2019|    Rahul Tripathi|    141|       118|20.142857142857142|           7| 50|   13|    2|201.42857142857142|   null|    1|\n",
            "|  2019|       Trent Boult|      7|         4|2.3333333333333335|           3|  6|    0|    1|23.333333333333336|   null| null|\n",
            "|  2015|       David Wiese|    122|        86|17.428571428571427|           7| 47|   12|    4|174.28571428571428|   null| null|\n",
            "|  2013|     Robin Uthappa|    434|       371|            27.125|          16| 75|   42|   12|            271.25|   null|    2|\n",
            "|  2013|      Albie Morkel|     46|        37|15.333333333333334|           3| 23|    2|    3|153.33333333333334|   null| null|\n",
            "|  2012|  Kumar Sangakkara|    200|       184|16.666666666666668|          12| 82|   21|    4|166.66666666666669|   null|    1|\n",
            "|  2011|  Daniel Christian|    190|       159|14.615384615384615|          13| 30|    9|    7|146.15384615384616|   null| null|\n",
            "|  2011|    Abhishek Nayar|     61|        67| 6.777777777777778|           9| 17|    9|    0| 67.77777777777777|   null| null|\n",
            "|  2010|      Rahul Sharma|     29|        26|              7.25|           4| 14|    3|    1|              72.5|   null| null|\n",
            "|  2022|    Shikhar Dhawan|    460|       375|32.857142857142854|          14| 88|   47|   12|328.57142857142856|   null|    3|\n",
            "|  2022|Narayan Jagadeesan|     40|        37|              20.0|           2| 39|    3|    1|             200.0|   null| null|\n",
            "|  2021|    Venkatesh Iyer|    370|       288|              37.0|          10| 67|   37|   14|             370.0|   null|    4|\n",
            "|  2019|Krishnappa Gowtham|     18|        19|               4.5|           4|  9|    1|    1|              45.0|   null| null|\n",
            "|  2016| Farhaan Behardien|     14|        13| 4.666666666666667|           3|  9|    2|    0| 46.66666666666667|   null| null|\n",
            "|  2016|       Imran Tahir|      5|         7|               5.0|           1|  5|    1|    0|              50.0|   null| null|\n",
            "|  2015|        Axar Patel|    206|       174|17.166666666666668|          12| 40|   13|    8|171.66666666666669|   null| null|\n",
            "|  2015|       Karn Sharma|    104|        85|11.555555555555555|           9| 32|    3|    6|115.55555555555556|   null| null|\n",
            "|  2013|      David Warner|    410|       323|            25.625|          16| 77|   41|   14|            256.25|   null|    4|\n",
            "|  2013|     Andre Russell|     11|        14|               5.5|           2|  7|    0|    0|              55.0|   null| null|\n",
            "+------+------------------+-------+----------+------------------+------------+---+-----+-----+------------------+-------+-----+\n",
            "only showing top 20 rows\n",
            "\n"
          ]
        }
      ]
    },
    {
      "cell_type": "code",
      "source": [
        "finaldf = finaldf.na.fill(value=0,subset=['Fifty','Hundred'])"
      ],
      "metadata": {
        "id": "A64qGqicOyrI"
      },
      "execution_count": 27,
      "outputs": []
    },
    {
      "cell_type": "code",
      "source": [
        "finaldf.filter(finaldf.Hundred > 0).show()"
      ],
      "metadata": {
        "colab": {
          "base_uri": "https://localhost:8080/"
        },
        "id": "S1oGKs6cPDJ9",
        "outputId": "9137a03f-a332-4d90-e98b-7cb4f7c9feea"
      },
      "execution_count": 28,
      "outputs": [
        {
          "output_type": "stream",
          "name": "stdout",
          "text": [
            "+------+----------------+-------+----------+------------------+------------+---+-----+-----+------------------+-------+-----+\n",
            "|season|        fullName|SumRuns|TotalBalls|           AvgRuns|TotalMatches| HS|Fours|Sixes|        StrikeRate|Hundred|Fifty|\n",
            "+------+----------------+-------+----------+------------------+------------+---+-----+-----+------------------+-------+-----+\n",
            "|  2019|  Jonny Bairstow|    445|       283|              44.5|          10|114|   48|   18|             445.0|      1|    3|\n",
            "|  2018|    Rishabh Pant|    684|       394|48.857142857142854|          14|128|   68|   37|488.57142857142856|      1|    6|\n",
            "|  2021|    Sanju Samson|    484|       354| 34.57142857142857|          14|119|   45|   17|345.71428571428567|      1|    3|\n",
            "|  2019|    David Warner|    692|       481|57.666666666666664|          12|100|   57|   21| 576.6666666666666|      1|    9|\n",
            "|  2019|        KL Rahul|    593|       438|42.357142857142854|          14|100|   49|   25|423.57142857142856|      1|    7|\n",
            "|  2020|        KL Rahul|    670|       518|47.857142857142854|          14|132|   58|   23|478.57142857142856|      1|    6|\n",
            "|  2018|   Ambati Rayudu|    602|       402|            37.625|          16|100|   53|   34|            376.25|      1|    4|\n",
            "|  2015|Brendon McCullum|    436|       280|31.142857142857142|          14|100|   51|   23|311.42857142857144|      1|    3|\n",
            "|  2013|    David Miller|    418|       254|34.833333333333336|          12|101|   28|   24|348.33333333333337|      1|    4|\n",
            "|  2022| Quinton de Kock|    508|       341| 33.86666666666667|          15|140|   47|   23| 338.6666666666667|      1|    4|\n",
            "|  2016|    Steven Smith|    270|       176| 38.57142857142857|           7|101|   27|    8|385.71428571428567|      1|    1|\n",
            "|  2014| Virender Sehwag|    455|       315|26.764705882352942|          17|122|   56|   18| 267.6470588235294|      1|    2|\n",
            "|  2017|      Ben Stokes|    316|       221|28.727272727272727|          11|103|   22|   15|287.27272727272725|      1|    2|\n",
            "|  2011|  Adam Gilchrist|    383|       295|27.357142857142858|          14|106|   41|   18|273.57142857142856|      1|    3|\n",
            "|  2020|  Shikhar Dhawan|    618|       427| 36.35294117647059|          17|106|   67|   12|363.52941176470586|      2|    6|\n",
            "|  2021| Ruturaj Gaikwad|    635|       466|           39.6875|          16|101|   64|   23|           396.875|      1|    5|\n",
            "|  2022|   Rajat Patidar|    333|       218| 47.57142857142857|           7|112|   27|   18|475.71428571428567|      1|    3|\n",
            "|  2016| Quinton de Kock|    445|       327| 34.23076923076923|          13|108|   52|   13| 342.3076923076923|      1|    4|\n",
            "|  2013|    Shane Watson|    543|       380|           33.9375|          16|101|   59|   22|           339.375|      1|    3|\n",
            "|  2021|     Jos Buttler|    254|       166|36.285714285714285|           7|124|   27|   13|362.85714285714283|      1|    1|\n",
            "+------+----------------+-------+----------+------------------+------------+---+-----+-----+------------------+-------+-----+\n",
            "only showing top 20 rows\n",
            "\n"
          ]
        }
      ]
    },
    {
      "cell_type": "code",
      "source": [
        "finaldf.show()"
      ],
      "metadata": {
        "colab": {
          "base_uri": "https://localhost:8080/"
        },
        "id": "Hm917JiVO_A9",
        "outputId": "d9e2501f-545f-42d8-ca19-df76303f1f56"
      },
      "execution_count": 29,
      "outputs": [
        {
          "output_type": "stream",
          "name": "stdout",
          "text": [
            "+------+------------------+-------+----------+------------------+------------+---+-----+-----+------------------+-------+-----+\n",
            "|season|          fullName|SumRuns|TotalBalls|           AvgRuns|TotalMatches| HS|Fours|Sixes|        StrikeRate|Hundred|Fifty|\n",
            "+------+------------------+-------+----------+------------------+------------+---+-----+-----+------------------+-------+-----+\n",
            "|  2020|       Priyam Garg|    133|       111|              13.3|          10| 51|    9|    4|             133.0|      0|    1|\n",
            "|  2019|    Rahul Tripathi|    141|       118|20.142857142857142|           7| 50|   13|    2|201.42857142857142|      0|    1|\n",
            "|  2019|       Trent Boult|      7|         4|2.3333333333333335|           3|  6|    0|    1|23.333333333333336|      0|    0|\n",
            "|  2015|       David Wiese|    122|        86|17.428571428571427|           7| 47|   12|    4|174.28571428571428|      0|    0|\n",
            "|  2013|     Robin Uthappa|    434|       371|            27.125|          16| 75|   42|   12|            271.25|      0|    2|\n",
            "|  2013|      Albie Morkel|     46|        37|15.333333333333334|           3| 23|    2|    3|153.33333333333334|      0|    0|\n",
            "|  2012|  Kumar Sangakkara|    200|       184|16.666666666666668|          12| 82|   21|    4|166.66666666666669|      0|    1|\n",
            "|  2011|  Daniel Christian|    190|       159|14.615384615384615|          13| 30|    9|    7|146.15384615384616|      0|    0|\n",
            "|  2011|    Abhishek Nayar|     61|        67| 6.777777777777778|           9| 17|    9|    0| 67.77777777777777|      0|    0|\n",
            "|  2010|      Rahul Sharma|     29|        26|              7.25|           4| 14|    3|    1|              72.5|      0|    0|\n",
            "|  2022|    Shikhar Dhawan|    460|       375|32.857142857142854|          14| 88|   47|   12|328.57142857142856|      0|    3|\n",
            "|  2022|Narayan Jagadeesan|     40|        37|              20.0|           2| 39|    3|    1|             200.0|      0|    0|\n",
            "|  2021|    Venkatesh Iyer|    370|       288|              37.0|          10| 67|   37|   14|             370.0|      0|    4|\n",
            "|  2019|Krishnappa Gowtham|     18|        19|               4.5|           4|  9|    1|    1|              45.0|      0|    0|\n",
            "|  2016| Farhaan Behardien|     14|        13| 4.666666666666667|           3|  9|    2|    0| 46.66666666666667|      0|    0|\n",
            "|  2016|       Imran Tahir|      5|         7|               5.0|           1|  5|    1|    0|              50.0|      0|    0|\n",
            "|  2015|        Axar Patel|    206|       174|17.166666666666668|          12| 40|   13|    8|171.66666666666669|      0|    0|\n",
            "|  2015|       Karn Sharma|    104|        85|11.555555555555555|           9| 32|    3|    6|115.55555555555556|      0|    0|\n",
            "|  2013|      David Warner|    410|       323|            25.625|          16| 77|   41|   14|            256.25|      0|    4|\n",
            "|  2013|     Andre Russell|     11|        14|               5.5|           2|  7|    0|    0|              55.0|      0|    0|\n",
            "+------+------------------+-------+----------+------------------+------------+---+-----+-----+------------------+-------+-----+\n",
            "only showing top 20 rows\n",
            "\n"
          ]
        }
      ]
    },
    {
      "cell_type": "code",
      "source": [
        "finaldf = finaldf.dropna()"
      ],
      "metadata": {
        "id": "RLh6atTI4Jfk"
      },
      "execution_count": 30,
      "outputs": []
    },
    {
      "cell_type": "code",
      "source": [
        "finaldf.write.option(\"header\",True) \\\n",
        "        .mode(\"overwrite\") \\\n",
        "        .csv(\"orangecapdata\")"
      ],
      "metadata": {
        "id": "Pfv5sV6K_6ou"
      },
      "execution_count": 31,
      "outputs": []
    },
    {
      "cell_type": "code",
      "source": [
        "finaldf.groupby('season').max('SumRuns').show()"
      ],
      "metadata": {
        "colab": {
          "base_uri": "https://localhost:8080/"
        },
        "id": "bg0ZX3fqBakB",
        "outputId": "065ea832-a0f1-4b07-f9e0-c63bb86dfaf2"
      },
      "execution_count": 32,
      "outputs": [
        {
          "output_type": "stream",
          "name": "stdout",
          "text": [
            "+------+------------+\n",
            "|season|max(SumRuns)|\n",
            "+------+------------+\n",
            "|  2016|         973|\n",
            "|  2020|         670|\n",
            "|  2012|         733|\n",
            "|  2019|         692|\n",
            "|  2017|         641|\n",
            "|  2014|         660|\n",
            "|  2013|         733|\n",
            "|  2018|         735|\n",
            "|  2009|         572|\n",
            "|  2011|         608|\n",
            "|  2022|         863|\n",
            "|  2008|         616|\n",
            "|  2021|         635|\n",
            "|  2015|         562|\n",
            "|  2010|         618|\n",
            "+------+------------+\n",
            "\n"
          ]
        }
      ]
    },
    {
      "cell_type": "code",
      "source": [
        "finaldf.createOrReplaceTempView(\"iplcap\")\n",
        "spark.sql(\"select fullName,season,max(SumRuns) from iplcap group by fullName, season order by max(SumRuns) desc\").show()"
      ],
      "metadata": {
        "colab": {
          "base_uri": "https://localhost:8080/"
        },
        "id": "I1OwEZFV7Srj",
        "outputId": "6fc44ca6-6431-487e-c305-a5576bb46a56"
      },
      "execution_count": 33,
      "outputs": [
        {
          "output_type": "stream",
          "name": "stdout",
          "text": [
            "+----------------+------+------------+\n",
            "|        fullName|season|max(SumRuns)|\n",
            "+----------------+------+------------+\n",
            "|     Virat Kohli|  2016|         973|\n",
            "|     Jos Buttler|  2022|         863|\n",
            "|    David Warner|  2016|         848|\n",
            "| Kane Williamson|  2018|         735|\n",
            "|  Michael Hussey|  2013|         733|\n",
            "|     Chris Gayle|  2012|         733|\n",
            "|     Chris Gayle|  2013|         708|\n",
            "|    David Warner|  2019|         692|\n",
            "|  AB de Villiers|  2016|         687|\n",
            "|    Rishabh Pant|  2018|         684|\n",
            "|        KL Rahul|  2020|         670|\n",
            "|   Robin Uthappa|  2014|         660|\n",
            "|        KL Rahul|  2018|         659|\n",
            "|    David Warner|  2017|         641|\n",
            "| Ruturaj Gaikwad|  2021|         635|\n",
            "|     Virat Kohli|  2013|         634|\n",
            "|  Faf du Plessis|  2021|         633|\n",
            "|        KL Rahul|  2021|         626|\n",
            "|Sachin Tendulkar|  2010|         618|\n",
            "|  Shikhar Dhawan|  2020|         618|\n",
            "+----------------+------+------------+\n",
            "only showing top 20 rows\n",
            "\n"
          ]
        }
      ]
    },
    {
      "cell_type": "code",
      "source": [
        "df = finaldf.toPandas()"
      ],
      "metadata": {
        "id": "yb0jFsSX4Ip9"
      },
      "execution_count": 34,
      "outputs": []
    },
    {
      "cell_type": "code",
      "source": [
        "import pandas as pd\n",
        "import numpy as np\n",
        "from sklearn.model_selection import train_test_split\n",
        "from sklearn.linear_model import LinearRegression\n",
        "from sklearn.metrics import mean_squared_error"
      ],
      "metadata": {
        "id": "fu6rm70S7aZh"
      },
      "execution_count": 35,
      "outputs": []
    },
    {
      "cell_type": "code",
      "source": [
        "df.columns"
      ],
      "metadata": {
        "colab": {
          "base_uri": "https://localhost:8080/"
        },
        "id": "FFFDAziu4om2",
        "outputId": "3660ad25-89da-46b8-ea67-adbc0faa17cd"
      },
      "execution_count": 36,
      "outputs": [
        {
          "output_type": "execute_result",
          "data": {
            "text/plain": [
              "Index(['season', 'fullName', 'SumRuns', 'TotalBalls', 'AvgRuns',\n",
              "       'TotalMatches', 'HS', 'Fours', 'Sixes', 'StrikeRate', 'Hundred',\n",
              "       'Fifty'],\n",
              "      dtype='object')"
            ]
          },
          "metadata": {},
          "execution_count": 36
        }
      ]
    },
    {
      "cell_type": "code",
      "source": [
        "df = df[df['TotalMatches']>=5]"
      ],
      "metadata": {
        "id": "2UBKUFfK4j_J"
      },
      "execution_count": 37,
      "outputs": []
    },
    {
      "cell_type": "code",
      "source": [
        "df = df[['TotalMatches','fullName','SumRuns','HS','AvgRuns','StrikeRate','Hundred','Fifty',]]"
      ],
      "metadata": {
        "id": "zk5qQq-t4utw"
      },
      "execution_count": 38,
      "outputs": []
    },
    {
      "cell_type": "code",
      "source": [
        "df['AvgSR'] = df['AvgRuns']*df['StrikeRate']"
      ],
      "metadata": {
        "id": "_W5Qd5wo5Xg6"
      },
      "execution_count": 39,
      "outputs": []
    },
    {
      "cell_type": "code",
      "source": [
        "df.head(5)"
      ],
      "metadata": {
        "colab": {
          "base_uri": "https://localhost:8080/",
          "height": 206
        },
        "id": "qb7emycG6KAU",
        "outputId": "e1577b84-b197-48a7-8e19-2e932a083b8b"
      },
      "execution_count": 40,
      "outputs": [
        {
          "output_type": "execute_result",
          "data": {
            "text/plain": [
              "   TotalMatches          fullName  SumRuns  HS    AvgRuns  StrikeRate  \\\n",
              "0            10       Priyam Garg      133  51  13.300000  133.000000   \n",
              "1             7    Rahul Tripathi      141  50  20.142857  201.428571   \n",
              "3             7       David Wiese      122  47  17.428571  174.285714   \n",
              "4            16     Robin Uthappa      434  75  27.125000  271.250000   \n",
              "6            12  Kumar Sangakkara      200  82  16.666667  166.666667   \n",
              "\n",
              "   Hundred  Fifty        AvgSR  \n",
              "0        0      1  1768.900000  \n",
              "1        0      1  4057.346939  \n",
              "3        0      0  3037.551020  \n",
              "4        0      2  7357.656250  \n",
              "6        0      1  2777.777778  "
            ],
            "text/html": [
              "\n",
              "  <div id=\"df-cba1cf51-0d96-47b3-ab09-67f46f8071ce\">\n",
              "    <div class=\"colab-df-container\">\n",
              "      <div>\n",
              "<style scoped>\n",
              "    .dataframe tbody tr th:only-of-type {\n",
              "        vertical-align: middle;\n",
              "    }\n",
              "\n",
              "    .dataframe tbody tr th {\n",
              "        vertical-align: top;\n",
              "    }\n",
              "\n",
              "    .dataframe thead th {\n",
              "        text-align: right;\n",
              "    }\n",
              "</style>\n",
              "<table border=\"1\" class=\"dataframe\">\n",
              "  <thead>\n",
              "    <tr style=\"text-align: right;\">\n",
              "      <th></th>\n",
              "      <th>TotalMatches</th>\n",
              "      <th>fullName</th>\n",
              "      <th>SumRuns</th>\n",
              "      <th>HS</th>\n",
              "      <th>AvgRuns</th>\n",
              "      <th>StrikeRate</th>\n",
              "      <th>Hundred</th>\n",
              "      <th>Fifty</th>\n",
              "      <th>AvgSR</th>\n",
              "    </tr>\n",
              "  </thead>\n",
              "  <tbody>\n",
              "    <tr>\n",
              "      <th>0</th>\n",
              "      <td>10</td>\n",
              "      <td>Priyam Garg</td>\n",
              "      <td>133</td>\n",
              "      <td>51</td>\n",
              "      <td>13.300000</td>\n",
              "      <td>133.000000</td>\n",
              "      <td>0</td>\n",
              "      <td>1</td>\n",
              "      <td>1768.900000</td>\n",
              "    </tr>\n",
              "    <tr>\n",
              "      <th>1</th>\n",
              "      <td>7</td>\n",
              "      <td>Rahul Tripathi</td>\n",
              "      <td>141</td>\n",
              "      <td>50</td>\n",
              "      <td>20.142857</td>\n",
              "      <td>201.428571</td>\n",
              "      <td>0</td>\n",
              "      <td>1</td>\n",
              "      <td>4057.346939</td>\n",
              "    </tr>\n",
              "    <tr>\n",
              "      <th>3</th>\n",
              "      <td>7</td>\n",
              "      <td>David Wiese</td>\n",
              "      <td>122</td>\n",
              "      <td>47</td>\n",
              "      <td>17.428571</td>\n",
              "      <td>174.285714</td>\n",
              "      <td>0</td>\n",
              "      <td>0</td>\n",
              "      <td>3037.551020</td>\n",
              "    </tr>\n",
              "    <tr>\n",
              "      <th>4</th>\n",
              "      <td>16</td>\n",
              "      <td>Robin Uthappa</td>\n",
              "      <td>434</td>\n",
              "      <td>75</td>\n",
              "      <td>27.125000</td>\n",
              "      <td>271.250000</td>\n",
              "      <td>0</td>\n",
              "      <td>2</td>\n",
              "      <td>7357.656250</td>\n",
              "    </tr>\n",
              "    <tr>\n",
              "      <th>6</th>\n",
              "      <td>12</td>\n",
              "      <td>Kumar Sangakkara</td>\n",
              "      <td>200</td>\n",
              "      <td>82</td>\n",
              "      <td>16.666667</td>\n",
              "      <td>166.666667</td>\n",
              "      <td>0</td>\n",
              "      <td>1</td>\n",
              "      <td>2777.777778</td>\n",
              "    </tr>\n",
              "  </tbody>\n",
              "</table>\n",
              "</div>\n",
              "      <button class=\"colab-df-convert\" onclick=\"convertToInteractive('df-cba1cf51-0d96-47b3-ab09-67f46f8071ce')\"\n",
              "              title=\"Convert this dataframe to an interactive table.\"\n",
              "              style=\"display:none;\">\n",
              "        \n",
              "  <svg xmlns=\"http://www.w3.org/2000/svg\" height=\"24px\"viewBox=\"0 0 24 24\"\n",
              "       width=\"24px\">\n",
              "    <path d=\"M0 0h24v24H0V0z\" fill=\"none\"/>\n",
              "    <path d=\"M18.56 5.44l.94 2.06.94-2.06 2.06-.94-2.06-.94-.94-2.06-.94 2.06-2.06.94zm-11 1L8.5 8.5l.94-2.06 2.06-.94-2.06-.94L8.5 2.5l-.94 2.06-2.06.94zm10 10l.94 2.06.94-2.06 2.06-.94-2.06-.94-.94-2.06-.94 2.06-2.06.94z\"/><path d=\"M17.41 7.96l-1.37-1.37c-.4-.4-.92-.59-1.43-.59-.52 0-1.04.2-1.43.59L10.3 9.45l-7.72 7.72c-.78.78-.78 2.05 0 2.83L4 21.41c.39.39.9.59 1.41.59.51 0 1.02-.2 1.41-.59l7.78-7.78 2.81-2.81c.8-.78.8-2.07 0-2.86zM5.41 20L4 18.59l7.72-7.72 1.47 1.35L5.41 20z\"/>\n",
              "  </svg>\n",
              "      </button>\n",
              "      \n",
              "  <style>\n",
              "    .colab-df-container {\n",
              "      display:flex;\n",
              "      flex-wrap:wrap;\n",
              "      gap: 12px;\n",
              "    }\n",
              "\n",
              "    .colab-df-convert {\n",
              "      background-color: #E8F0FE;\n",
              "      border: none;\n",
              "      border-radius: 50%;\n",
              "      cursor: pointer;\n",
              "      display: none;\n",
              "      fill: #1967D2;\n",
              "      height: 32px;\n",
              "      padding: 0 0 0 0;\n",
              "      width: 32px;\n",
              "    }\n",
              "\n",
              "    .colab-df-convert:hover {\n",
              "      background-color: #E2EBFA;\n",
              "      box-shadow: 0px 1px 2px rgba(60, 64, 67, 0.3), 0px 1px 3px 1px rgba(60, 64, 67, 0.15);\n",
              "      fill: #174EA6;\n",
              "    }\n",
              "\n",
              "    [theme=dark] .colab-df-convert {\n",
              "      background-color: #3B4455;\n",
              "      fill: #D2E3FC;\n",
              "    }\n",
              "\n",
              "    [theme=dark] .colab-df-convert:hover {\n",
              "      background-color: #434B5C;\n",
              "      box-shadow: 0px 1px 3px 1px rgba(0, 0, 0, 0.15);\n",
              "      filter: drop-shadow(0px 1px 2px rgba(0, 0, 0, 0.3));\n",
              "      fill: #FFFFFF;\n",
              "    }\n",
              "  </style>\n",
              "\n",
              "      <script>\n",
              "        const buttonEl =\n",
              "          document.querySelector('#df-cba1cf51-0d96-47b3-ab09-67f46f8071ce button.colab-df-convert');\n",
              "        buttonEl.style.display =\n",
              "          google.colab.kernel.accessAllowed ? 'block' : 'none';\n",
              "\n",
              "        async function convertToInteractive(key) {\n",
              "          const element = document.querySelector('#df-cba1cf51-0d96-47b3-ab09-67f46f8071ce');\n",
              "          const dataTable =\n",
              "            await google.colab.kernel.invokeFunction('convertToInteractive',\n",
              "                                                     [key], {});\n",
              "          if (!dataTable) return;\n",
              "\n",
              "          const docLinkHtml = 'Like what you see? Visit the ' +\n",
              "            '<a target=\"_blank\" href=https://colab.research.google.com/notebooks/data_table.ipynb>data table notebook</a>'\n",
              "            + ' to learn more about interactive tables.';\n",
              "          element.innerHTML = '';\n",
              "          dataTable['output_type'] = 'display_data';\n",
              "          await google.colab.output.renderOutput(dataTable, element);\n",
              "          const docLink = document.createElement('div');\n",
              "          docLink.innerHTML = docLinkHtml;\n",
              "          element.appendChild(docLink);\n",
              "        }\n",
              "      </script>\n",
              "    </div>\n",
              "  </div>\n",
              "  "
            ]
          },
          "metadata": {},
          "execution_count": 40
        }
      ]
    },
    {
      "cell_type": "code",
      "source": [
        "X = df[['TotalMatches','HS','AvgRuns','StrikeRate','Hundred','Fifty','AvgSR']]\n",
        "y = df['SumRuns']"
      ],
      "metadata": {
        "id": "qaEt_l575iqT"
      },
      "execution_count": 41,
      "outputs": []
    },
    {
      "cell_type": "code",
      "source": [
        "X_train, X_test, y_train, y_test = train_test_split(X,y,test_size=0.2, random_state=0)"
      ],
      "metadata": {
        "id": "TQ9647k-6TLm"
      },
      "execution_count": 42,
      "outputs": []
    },
    {
      "cell_type": "code",
      "source": [
        "model = LinearRegression()"
      ],
      "metadata": {
        "id": "EXWqquoX6TOb"
      },
      "execution_count": 43,
      "outputs": []
    },
    {
      "cell_type": "code",
      "source": [
        "model.fit(X_train,y_train)"
      ],
      "metadata": {
        "colab": {
          "base_uri": "https://localhost:8080/",
          "height": 75
        },
        "id": "hWA1m-hV6mS6",
        "outputId": "5e59c22e-5b70-4a05-f96a-1d1e222a0413"
      },
      "execution_count": 44,
      "outputs": [
        {
          "output_type": "execute_result",
          "data": {
            "text/plain": [
              "LinearRegression()"
            ],
            "text/html": [
              "<style>#sk-container-id-1 {color: black;background-color: white;}#sk-container-id-1 pre{padding: 0;}#sk-container-id-1 div.sk-toggleable {background-color: white;}#sk-container-id-1 label.sk-toggleable__label {cursor: pointer;display: block;width: 100%;margin-bottom: 0;padding: 0.3em;box-sizing: border-box;text-align: center;}#sk-container-id-1 label.sk-toggleable__label-arrow:before {content: \"▸\";float: left;margin-right: 0.25em;color: #696969;}#sk-container-id-1 label.sk-toggleable__label-arrow:hover:before {color: black;}#sk-container-id-1 div.sk-estimator:hover label.sk-toggleable__label-arrow:before {color: black;}#sk-container-id-1 div.sk-toggleable__content {max-height: 0;max-width: 0;overflow: hidden;text-align: left;background-color: #f0f8ff;}#sk-container-id-1 div.sk-toggleable__content pre {margin: 0.2em;color: black;border-radius: 0.25em;background-color: #f0f8ff;}#sk-container-id-1 input.sk-toggleable__control:checked~div.sk-toggleable__content {max-height: 200px;max-width: 100%;overflow: auto;}#sk-container-id-1 input.sk-toggleable__control:checked~label.sk-toggleable__label-arrow:before {content: \"▾\";}#sk-container-id-1 div.sk-estimator input.sk-toggleable__control:checked~label.sk-toggleable__label {background-color: #d4ebff;}#sk-container-id-1 div.sk-label input.sk-toggleable__control:checked~label.sk-toggleable__label {background-color: #d4ebff;}#sk-container-id-1 input.sk-hidden--visually {border: 0;clip: rect(1px 1px 1px 1px);clip: rect(1px, 1px, 1px, 1px);height: 1px;margin: -1px;overflow: hidden;padding: 0;position: absolute;width: 1px;}#sk-container-id-1 div.sk-estimator {font-family: monospace;background-color: #f0f8ff;border: 1px dotted black;border-radius: 0.25em;box-sizing: border-box;margin-bottom: 0.5em;}#sk-container-id-1 div.sk-estimator:hover {background-color: #d4ebff;}#sk-container-id-1 div.sk-parallel-item::after {content: \"\";width: 100%;border-bottom: 1px solid gray;flex-grow: 1;}#sk-container-id-1 div.sk-label:hover label.sk-toggleable__label {background-color: #d4ebff;}#sk-container-id-1 div.sk-serial::before {content: \"\";position: absolute;border-left: 1px solid gray;box-sizing: border-box;top: 0;bottom: 0;left: 50%;z-index: 0;}#sk-container-id-1 div.sk-serial {display: flex;flex-direction: column;align-items: center;background-color: white;padding-right: 0.2em;padding-left: 0.2em;position: relative;}#sk-container-id-1 div.sk-item {position: relative;z-index: 1;}#sk-container-id-1 div.sk-parallel {display: flex;align-items: stretch;justify-content: center;background-color: white;position: relative;}#sk-container-id-1 div.sk-item::before, #sk-container-id-1 div.sk-parallel-item::before {content: \"\";position: absolute;border-left: 1px solid gray;box-sizing: border-box;top: 0;bottom: 0;left: 50%;z-index: -1;}#sk-container-id-1 div.sk-parallel-item {display: flex;flex-direction: column;z-index: 1;position: relative;background-color: white;}#sk-container-id-1 div.sk-parallel-item:first-child::after {align-self: flex-end;width: 50%;}#sk-container-id-1 div.sk-parallel-item:last-child::after {align-self: flex-start;width: 50%;}#sk-container-id-1 div.sk-parallel-item:only-child::after {width: 0;}#sk-container-id-1 div.sk-dashed-wrapped {border: 1px dashed gray;margin: 0 0.4em 0.5em 0.4em;box-sizing: border-box;padding-bottom: 0.4em;background-color: white;}#sk-container-id-1 div.sk-label label {font-family: monospace;font-weight: bold;display: inline-block;line-height: 1.2em;}#sk-container-id-1 div.sk-label-container {text-align: center;}#sk-container-id-1 div.sk-container {/* jupyter's `normalize.less` sets `[hidden] { display: none; }` but bootstrap.min.css set `[hidden] { display: none !important; }` so we also need the `!important` here to be able to override the default hidden behavior on the sphinx rendered scikit-learn.org. See: https://github.com/scikit-learn/scikit-learn/issues/21755 */display: inline-block !important;position: relative;}#sk-container-id-1 div.sk-text-repr-fallback {display: none;}</style><div id=\"sk-container-id-1\" class=\"sk-top-container\"><div class=\"sk-text-repr-fallback\"><pre>LinearRegression()</pre><b>In a Jupyter environment, please rerun this cell to show the HTML representation or trust the notebook. <br />On GitHub, the HTML representation is unable to render, please try loading this page with nbviewer.org.</b></div><div class=\"sk-container\" hidden><div class=\"sk-item\"><div class=\"sk-estimator sk-toggleable\"><input class=\"sk-toggleable__control sk-hidden--visually\" id=\"sk-estimator-id-1\" type=\"checkbox\" checked><label for=\"sk-estimator-id-1\" class=\"sk-toggleable__label sk-toggleable__label-arrow\">LinearRegression</label><div class=\"sk-toggleable__content\"><pre>LinearRegression()</pre></div></div></div></div></div>"
            ]
          },
          "metadata": {},
          "execution_count": 44
        }
      ]
    },
    {
      "cell_type": "code",
      "source": [
        "y_pred = model.predict(X_test)"
      ],
      "metadata": {
        "id": "N88jZaie61Gf"
      },
      "execution_count": 45,
      "outputs": []
    },
    {
      "cell_type": "code",
      "source": [
        "mse = mean_squared_error(y_test, y_pred)"
      ],
      "metadata": {
        "id": "NZNnNB1O69JO"
      },
      "execution_count": 46,
      "outputs": []
    },
    {
      "cell_type": "code",
      "source": [
        "print(\"Mean Squared Error\", mse)"
      ],
      "metadata": {
        "colab": {
          "base_uri": "https://localhost:8080/"
        },
        "id": "py9pLTE27FyR",
        "outputId": "b0abc85e-de6a-42fe-ed98-c0607111cff8"
      },
      "execution_count": 47,
      "outputs": [
        {
          "output_type": "stream",
          "name": "stdout",
          "text": [
            "Mean Squared Error 490.2227480347855\n"
          ]
        }
      ]
    },
    {
      "cell_type": "code",
      "source": [
        "#2023 Data "
      ],
      "metadata": {
        "id": "MMyN3sy-7I25"
      },
      "execution_count": 48,
      "outputs": []
    },
    {
      "cell_type": "code",
      "source": [
        "sch = StructType([StructField('fullName', StringType(), True),\n",
        "StructField('Matches', IntegerType(), True),\n",
        "StructField('TotalMatches', IntegerType(), True),\n",
        "StructField('NO', IntegerType(), True),\n",
        "StructField('SumRuns', IntegerType(), True),\n",
        "StructField('HS', IntegerType(), True),\n",
        "StructField('AvgRuns', FloatType(), True),\n",
        "StructField('TotalBalls', IntegerType(), True),\n",
        "StructField('StrikeRate', FloatType(), True),\n",
        "StructField('Hundred', IntegerType(), True),\n",
        "StructField('Fifty', IntegerType(), True),\n",
        "StructField('fours', IntegerType(), True),\n",
        "StructField('sixes', IntegerType(), True)])"
      ],
      "metadata": {
        "id": "T76FFZQsUf1X"
      },
      "execution_count": 49,
      "outputs": []
    },
    {
      "cell_type": "code",
      "source": [
        "org2023 = spark.read.option(\"header\",True).schema(sch).csv('2023orangecap.csv')"
      ],
      "metadata": {
        "id": "eqL95V0TS2MV"
      },
      "execution_count": 50,
      "outputs": []
    },
    {
      "cell_type": "code",
      "source": [
        "org2023.printSchema()"
      ],
      "metadata": {
        "colab": {
          "base_uri": "https://localhost:8080/"
        },
        "id": "XukwsZkHZT7F",
        "outputId": "939f9ac7-8ca8-44e0-ed71-a0299b395dee"
      },
      "execution_count": 51,
      "outputs": [
        {
          "output_type": "stream",
          "name": "stdout",
          "text": [
            "root\n",
            " |-- fullName: string (nullable = true)\n",
            " |-- Matches: integer (nullable = true)\n",
            " |-- TotalMatches: integer (nullable = true)\n",
            " |-- NO: integer (nullable = true)\n",
            " |-- SumRuns: integer (nullable = true)\n",
            " |-- HS: integer (nullable = true)\n",
            " |-- AvgRuns: float (nullable = true)\n",
            " |-- TotalBalls: integer (nullable = true)\n",
            " |-- StrikeRate: float (nullable = true)\n",
            " |-- Hundred: integer (nullable = true)\n",
            " |-- Fifty: integer (nullable = true)\n",
            " |-- fours: integer (nullable = true)\n",
            " |-- sixes: integer (nullable = true)\n",
            "\n"
          ]
        }
      ]
    },
    {
      "cell_type": "code",
      "source": [
        "org2023 = org2023.withColumn(\"AvgSR\",col(\"AvgRuns\")*col(\"StrikeRate\"))"
      ],
      "metadata": {
        "id": "77HgDws-Xy4n"
      },
      "execution_count": 52,
      "outputs": []
    },
    {
      "cell_type": "code",
      "source": [
        "org2023.show(5)"
      ],
      "metadata": {
        "colab": {
          "base_uri": "https://localhost:8080/"
        },
        "id": "2cSPczYaemM_",
        "outputId": "88671a60-90fc-479e-e378-ef872fb79961"
      },
      "execution_count": 53,
      "outputs": [
        {
          "output_type": "stream",
          "name": "stdout",
          "text": [
            "+----------------+-------+------------+---+-------+---+-------+----------+----------+-------+-----+-----+-----+---------+\n",
            "|        fullName|Matches|TotalMatches| NO|SumRuns| HS|AvgRuns|TotalBalls|StrikeRate|Hundred|Fifty|fours|sixes|    AvgSR|\n",
            "+----------------+-------+------------+---+-------+---+-------+----------+----------+-------+-----+-----+-----+---------+\n",
            "|  Faf Du Plessis|     10|          10|  1|    511| 84|  56.78|       324|    157.71|      0|    5|   40|   29| 8954.774|\n",
            "|    Devon Conway|     11|          10|  2|    458| 92|  57.25|       329|     139.2|      0|    5|   54|   13|7969.1997|\n",
            "|Yashasvi Jaiswal|     10|          10|  0|    442|124|   44.2|       279|    158.42|      1|    3|   57|   19| 7002.164|\n",
            "|     Virat Kohli|     10|          10|  1|    419| 82|  46.56|       310|    135.16|      0|    6|   39|   11|  6293.05|\n",
            "| Ruturaj Gaikwad|     11|          10|  1|    384| 92|  42.67|       259|    148.26|      0|    2|   27|   21| 6326.254|\n",
            "+----------------+-------+------------+---+-------+---+-------+----------+----------+-------+-----+-----+-----+---------+\n",
            "only showing top 5 rows\n",
            "\n"
          ]
        }
      ]
    },
    {
      "cell_type": "code",
      "source": [
        "df4 = org2023.toPandas()"
      ],
      "metadata": {
        "id": "VmFweowaVaUa"
      },
      "execution_count": 54,
      "outputs": []
    },
    {
      "cell_type": "code",
      "source": [
        "df4.head()"
      ],
      "metadata": {
        "colab": {
          "base_uri": "https://localhost:8080/",
          "height": 357
        },
        "id": "0ZZdVTeBQ1vl",
        "outputId": "51fab608-2242-46f5-f8d4-8cf187d5adf4"
      },
      "execution_count": 55,
      "outputs": [
        {
          "output_type": "execute_result",
          "data": {
            "text/plain": [
              "           fullName  Matches  TotalMatches  NO  SumRuns   HS    AvgRuns  \\\n",
              "0    Faf Du Plessis       10          10.0   1      511   84  56.779999   \n",
              "1      Devon Conway       11          10.0   2      458   92  57.250000   \n",
              "2  Yashasvi Jaiswal       10          10.0   0      442  124  44.200001   \n",
              "3       Virat Kohli       10          10.0   1      419   82  46.560001   \n",
              "4   Ruturaj Gaikwad       11          10.0   1      384   92  42.669998   \n",
              "\n",
              "   TotalBalls  StrikeRate  Hundred  Fifty  fours  sixes        AvgSR  \n",
              "0         324  157.710007        0      5     40     29  8954.774414  \n",
              "1         329  139.199997        0      5     54     13  7969.199707  \n",
              "2         279  158.419998        1      3     57     19  7002.164062  \n",
              "3         310  135.160004        0      6     39     11  6293.049805  \n",
              "4         259  148.259995        0      2     27     21  6326.253906  "
            ],
            "text/html": [
              "\n",
              "  <div id=\"df-bfd34cba-0fd2-489c-9441-96a76e2d7c41\">\n",
              "    <div class=\"colab-df-container\">\n",
              "      <div>\n",
              "<style scoped>\n",
              "    .dataframe tbody tr th:only-of-type {\n",
              "        vertical-align: middle;\n",
              "    }\n",
              "\n",
              "    .dataframe tbody tr th {\n",
              "        vertical-align: top;\n",
              "    }\n",
              "\n",
              "    .dataframe thead th {\n",
              "        text-align: right;\n",
              "    }\n",
              "</style>\n",
              "<table border=\"1\" class=\"dataframe\">\n",
              "  <thead>\n",
              "    <tr style=\"text-align: right;\">\n",
              "      <th></th>\n",
              "      <th>fullName</th>\n",
              "      <th>Matches</th>\n",
              "      <th>TotalMatches</th>\n",
              "      <th>NO</th>\n",
              "      <th>SumRuns</th>\n",
              "      <th>HS</th>\n",
              "      <th>AvgRuns</th>\n",
              "      <th>TotalBalls</th>\n",
              "      <th>StrikeRate</th>\n",
              "      <th>Hundred</th>\n",
              "      <th>Fifty</th>\n",
              "      <th>fours</th>\n",
              "      <th>sixes</th>\n",
              "      <th>AvgSR</th>\n",
              "    </tr>\n",
              "  </thead>\n",
              "  <tbody>\n",
              "    <tr>\n",
              "      <th>0</th>\n",
              "      <td>Faf Du Plessis</td>\n",
              "      <td>10</td>\n",
              "      <td>10.0</td>\n",
              "      <td>1</td>\n",
              "      <td>511</td>\n",
              "      <td>84</td>\n",
              "      <td>56.779999</td>\n",
              "      <td>324</td>\n",
              "      <td>157.710007</td>\n",
              "      <td>0</td>\n",
              "      <td>5</td>\n",
              "      <td>40</td>\n",
              "      <td>29</td>\n",
              "      <td>8954.774414</td>\n",
              "    </tr>\n",
              "    <tr>\n",
              "      <th>1</th>\n",
              "      <td>Devon Conway</td>\n",
              "      <td>11</td>\n",
              "      <td>10.0</td>\n",
              "      <td>2</td>\n",
              "      <td>458</td>\n",
              "      <td>92</td>\n",
              "      <td>57.250000</td>\n",
              "      <td>329</td>\n",
              "      <td>139.199997</td>\n",
              "      <td>0</td>\n",
              "      <td>5</td>\n",
              "      <td>54</td>\n",
              "      <td>13</td>\n",
              "      <td>7969.199707</td>\n",
              "    </tr>\n",
              "    <tr>\n",
              "      <th>2</th>\n",
              "      <td>Yashasvi Jaiswal</td>\n",
              "      <td>10</td>\n",
              "      <td>10.0</td>\n",
              "      <td>0</td>\n",
              "      <td>442</td>\n",
              "      <td>124</td>\n",
              "      <td>44.200001</td>\n",
              "      <td>279</td>\n",
              "      <td>158.419998</td>\n",
              "      <td>1</td>\n",
              "      <td>3</td>\n",
              "      <td>57</td>\n",
              "      <td>19</td>\n",
              "      <td>7002.164062</td>\n",
              "    </tr>\n",
              "    <tr>\n",
              "      <th>3</th>\n",
              "      <td>Virat Kohli</td>\n",
              "      <td>10</td>\n",
              "      <td>10.0</td>\n",
              "      <td>1</td>\n",
              "      <td>419</td>\n",
              "      <td>82</td>\n",
              "      <td>46.560001</td>\n",
              "      <td>310</td>\n",
              "      <td>135.160004</td>\n",
              "      <td>0</td>\n",
              "      <td>6</td>\n",
              "      <td>39</td>\n",
              "      <td>11</td>\n",
              "      <td>6293.049805</td>\n",
              "    </tr>\n",
              "    <tr>\n",
              "      <th>4</th>\n",
              "      <td>Ruturaj Gaikwad</td>\n",
              "      <td>11</td>\n",
              "      <td>10.0</td>\n",
              "      <td>1</td>\n",
              "      <td>384</td>\n",
              "      <td>92</td>\n",
              "      <td>42.669998</td>\n",
              "      <td>259</td>\n",
              "      <td>148.259995</td>\n",
              "      <td>0</td>\n",
              "      <td>2</td>\n",
              "      <td>27</td>\n",
              "      <td>21</td>\n",
              "      <td>6326.253906</td>\n",
              "    </tr>\n",
              "  </tbody>\n",
              "</table>\n",
              "</div>\n",
              "      <button class=\"colab-df-convert\" onclick=\"convertToInteractive('df-bfd34cba-0fd2-489c-9441-96a76e2d7c41')\"\n",
              "              title=\"Convert this dataframe to an interactive table.\"\n",
              "              style=\"display:none;\">\n",
              "        \n",
              "  <svg xmlns=\"http://www.w3.org/2000/svg\" height=\"24px\"viewBox=\"0 0 24 24\"\n",
              "       width=\"24px\">\n",
              "    <path d=\"M0 0h24v24H0V0z\" fill=\"none\"/>\n",
              "    <path d=\"M18.56 5.44l.94 2.06.94-2.06 2.06-.94-2.06-.94-.94-2.06-.94 2.06-2.06.94zm-11 1L8.5 8.5l.94-2.06 2.06-.94-2.06-.94L8.5 2.5l-.94 2.06-2.06.94zm10 10l.94 2.06.94-2.06 2.06-.94-2.06-.94-.94-2.06-.94 2.06-2.06.94z\"/><path d=\"M17.41 7.96l-1.37-1.37c-.4-.4-.92-.59-1.43-.59-.52 0-1.04.2-1.43.59L10.3 9.45l-7.72 7.72c-.78.78-.78 2.05 0 2.83L4 21.41c.39.39.9.59 1.41.59.51 0 1.02-.2 1.41-.59l7.78-7.78 2.81-2.81c.8-.78.8-2.07 0-2.86zM5.41 20L4 18.59l7.72-7.72 1.47 1.35L5.41 20z\"/>\n",
              "  </svg>\n",
              "      </button>\n",
              "      \n",
              "  <style>\n",
              "    .colab-df-container {\n",
              "      display:flex;\n",
              "      flex-wrap:wrap;\n",
              "      gap: 12px;\n",
              "    }\n",
              "\n",
              "    .colab-df-convert {\n",
              "      background-color: #E8F0FE;\n",
              "      border: none;\n",
              "      border-radius: 50%;\n",
              "      cursor: pointer;\n",
              "      display: none;\n",
              "      fill: #1967D2;\n",
              "      height: 32px;\n",
              "      padding: 0 0 0 0;\n",
              "      width: 32px;\n",
              "    }\n",
              "\n",
              "    .colab-df-convert:hover {\n",
              "      background-color: #E2EBFA;\n",
              "      box-shadow: 0px 1px 2px rgba(60, 64, 67, 0.3), 0px 1px 3px 1px rgba(60, 64, 67, 0.15);\n",
              "      fill: #174EA6;\n",
              "    }\n",
              "\n",
              "    [theme=dark] .colab-df-convert {\n",
              "      background-color: #3B4455;\n",
              "      fill: #D2E3FC;\n",
              "    }\n",
              "\n",
              "    [theme=dark] .colab-df-convert:hover {\n",
              "      background-color: #434B5C;\n",
              "      box-shadow: 0px 1px 3px 1px rgba(0, 0, 0, 0.15);\n",
              "      filter: drop-shadow(0px 1px 2px rgba(0, 0, 0, 0.3));\n",
              "      fill: #FFFFFF;\n",
              "    }\n",
              "  </style>\n",
              "\n",
              "      <script>\n",
              "        const buttonEl =\n",
              "          document.querySelector('#df-bfd34cba-0fd2-489c-9441-96a76e2d7c41 button.colab-df-convert');\n",
              "        buttonEl.style.display =\n",
              "          google.colab.kernel.accessAllowed ? 'block' : 'none';\n",
              "\n",
              "        async function convertToInteractive(key) {\n",
              "          const element = document.querySelector('#df-bfd34cba-0fd2-489c-9441-96a76e2d7c41');\n",
              "          const dataTable =\n",
              "            await google.colab.kernel.invokeFunction('convertToInteractive',\n",
              "                                                     [key], {});\n",
              "          if (!dataTable) return;\n",
              "\n",
              "          const docLinkHtml = 'Like what you see? Visit the ' +\n",
              "            '<a target=\"_blank\" href=https://colab.research.google.com/notebooks/data_table.ipynb>data table notebook</a>'\n",
              "            + ' to learn more about interactive tables.';\n",
              "          element.innerHTML = '';\n",
              "          dataTable['output_type'] = 'display_data';\n",
              "          await google.colab.output.renderOutput(dataTable, element);\n",
              "          const docLink = document.createElement('div');\n",
              "          docLink.innerHTML = docLinkHtml;\n",
              "          element.appendChild(docLink);\n",
              "        }\n",
              "      </script>\n",
              "    </div>\n",
              "  </div>\n",
              "  "
            ]
          },
          "metadata": {},
          "execution_count": 55
        }
      ]
    },
    {
      "cell_type": "code",
      "source": [
        "df4 = df4[df4['TotalMatches']>7]"
      ],
      "metadata": {
        "id": "hySF_gT9eTZq"
      },
      "execution_count": 56,
      "outputs": []
    },
    {
      "cell_type": "code",
      "source": [
        "current_season_data = df4[['TotalMatches','HS','AvgRuns','StrikeRate','Hundred','Fifty','AvgSR']]"
      ],
      "metadata": {
        "id": "hg_odmSOYC9O"
      },
      "execution_count": 57,
      "outputs": []
    },
    {
      "cell_type": "code",
      "source": [
        "current_season_data = current_season_data.dropna()"
      ],
      "metadata": {
        "id": "-cl0g7JobNvN"
      },
      "execution_count": 58,
      "outputs": []
    },
    {
      "cell_type": "code",
      "source": [
        "predicted_runs = model.predict(current_season_data)"
      ],
      "metadata": {
        "id": "ovMWlzYAY-U6"
      },
      "execution_count": 59,
      "outputs": []
    },
    {
      "cell_type": "code",
      "source": [
        "print(predicted_runs)"
      ],
      "metadata": {
        "colab": {
          "base_uri": "https://localhost:8080/"
        },
        "id": "PiWWSOuafBV5",
        "outputId": "c8684c89-e0cc-4874-986d-6fa2b863baca"
      },
      "execution_count": 60,
      "outputs": [
        {
          "output_type": "stream",
          "name": "stdout",
          "text": [
            "[116.96520966  88.88746456 120.56419782 141.61292323  87.28776335\n",
            " 117.34036545 134.78036783  67.04810142 174.80166673 120.42115492\n",
            " 141.94454152 188.7989209  122.61654501 130.66281994 122.55755259\n",
            "  52.85716348  59.45143259 110.10493952 192.99408424  73.31534506\n",
            " 144.43167224 158.80930929 132.66869424  70.7363349  142.96234157\n",
            " 148.13261273 100.35679566  87.70053471 102.48210482 103.20037435\n",
            " 101.9492475   83.62338127  74.5365409  130.82087145  14.45714655\n",
            " 107.21196576  76.14596633 135.10207973  83.63003481 145.61530706\n",
            " 115.63675227 149.49329705  97.1888302  136.89624809 123.66224519\n",
            " 109.16338492  94.26604764]\n"
          ]
        }
      ]
    },
    {
      "cell_type": "code",
      "source": [
        "ps = np.round(predicted_runs)"
      ],
      "metadata": {
        "id": "L7S8iH8YZH_o"
      },
      "execution_count": 61,
      "outputs": []
    },
    {
      "cell_type": "code",
      "source": [
        "print(ps)"
      ],
      "metadata": {
        "id": "6oIvE7rUvHuF",
        "outputId": "dbe2ecfa-b831-4a6b-c0d7-75acd802553d",
        "colab": {
          "base_uri": "https://localhost:8080/"
        }
      },
      "execution_count": 67,
      "outputs": [
        {
          "output_type": "stream",
          "name": "stdout",
          "text": [
            "[117.  89. 121. 142.  87. 117. 135.  67. 175. 120. 142. 189. 123. 131.\n",
            " 123.  53.  59. 110. 193.  73. 144. 159. 133.  71. 143. 148. 100.  88.\n",
            " 102. 103. 102.  84.  75. 131.  14. 107.  76. 135.  84. 146. 116. 149.\n",
            "  97. 137. 124. 109.  94.]\n"
          ]
        }
      ]
    },
    {
      "cell_type": "code",
      "source": [
        "orange_cap_winner_index = ps.argmax()"
      ],
      "metadata": {
        "id": "6sUuGpxsbimH"
      },
      "execution_count": 62,
      "outputs": []
    },
    {
      "cell_type": "code",
      "source": [
        "print(orange_cap_winner_index)"
      ],
      "metadata": {
        "colab": {
          "base_uri": "https://localhost:8080/"
        },
        "id": "9Z47u_JGHQZ8",
        "outputId": "855a8c41-f3f2-43d0-83ef-1c9582c5a65d"
      },
      "execution_count": 63,
      "outputs": [
        {
          "output_type": "stream",
          "name": "stdout",
          "text": [
            "18\n"
          ]
        }
      ]
    },
    {
      "cell_type": "code",
      "source": [
        "ocw = current_season_data.iloc[orange_cap_winner_index]"
      ],
      "metadata": {
        "id": "73rFdeJncsGN"
      },
      "execution_count": 64,
      "outputs": []
    },
    {
      "cell_type": "code",
      "source": [
        "print(df4['fullName'][orange_cap_winner_index])\n",
        "print(ocw)"
      ],
      "metadata": {
        "colab": {
          "base_uri": "https://localhost:8080/"
        },
        "id": "t83b19lHc1Do",
        "outputId": "5fb8dacf-042d-45bf-e90d-588471354833"
      },
      "execution_count": 65,
      "outputs": [
        {
          "output_type": "stream",
          "name": "stdout",
          "text": [
            "Cameron Green\n",
            "TotalMatches      10.000000\n",
            "HS                77.000000\n",
            "AvgRuns           29.110001\n",
            "StrikeRate       181.940002\n",
            "Hundred            0.000000\n",
            "Fifty              3.000000\n",
            "AvgSR           5296.273438\n",
            "Name: 19, dtype: float64\n"
          ]
        }
      ]
    },
    {
      "cell_type": "code",
      "source": [],
      "metadata": {
        "id": "rYVMSz5UjFCC"
      },
      "execution_count": null,
      "outputs": []
    },
    {
      "cell_type": "code",
      "source": [],
      "metadata": {
        "id": "rDxWZnsXIDFM"
      },
      "execution_count": null,
      "outputs": []
    },
    {
      "cell_type": "code",
      "source": [],
      "metadata": {
        "id": "sMs0qBHCIDII"
      },
      "execution_count": null,
      "outputs": []
    },
    {
      "cell_type": "code",
      "source": [],
      "metadata": {
        "id": "py4gmMyrIDK0"
      },
      "execution_count": null,
      "outputs": []
    },
    {
      "cell_type": "code",
      "source": [],
      "metadata": {
        "id": "dWloewo4IDNI"
      },
      "execution_count": null,
      "outputs": []
    },
    {
      "cell_type": "code",
      "source": [],
      "metadata": {
        "id": "zvumWBuyIDQm"
      },
      "execution_count": null,
      "outputs": []
    },
    {
      "cell_type": "code",
      "source": [],
      "metadata": {
        "id": "NXOaZHOJIDTr"
      },
      "execution_count": null,
      "outputs": []
    },
    {
      "cell_type": "code",
      "source": [
        "bowl_schema = StructType([StructField('season', IntegerType(), True),\n",
        "  StructField('match_id', IntegerType(), True),\n",
        "  StructField('match_name', StringType(), True),\n",
        "  StructField('home_team', StringType(), True),\n",
        "  StructField('away_team', StringType(), True),\n",
        "  StructField('bowling_team', StringType(), True),\n",
        "  StructField('venue', StringType(), True),\n",
        "  StructField('city', StringType(), True),\n",
        "  StructField('country', StringType(), True),\n",
        "  StructField('innings_id', IntegerType(), True),\n",
        "  StructField('name', StringType(), True),\n",
        "  StructField('fullName', StringType(), True),\n",
        "  StructField('overs', FloatType(), True),\n",
        "  StructField('maidens', IntegerType(), True),\n",
        "  StructField('conceded', IntegerType(), True),\n",
        "  StructField('wickets', IntegerType(), True),\n",
        "  StructField('economyRate', FloatType(), True),\n",
        "  StructField('dots', IntegerType(), True),\n",
        "  StructField('foursConceded', IntegerType(), True),\n",
        "  StructField('sixesConceded', IntegerType(), True),\n",
        "  StructField('wides', IntegerType(), True),\n",
        "  StructField('noballs', IntegerType(), True),\n",
        "  StructField('captain', BooleanType(), True),\n",
        "  StructField('href', StringType(), True)])"
      ],
      "metadata": {
        "id": "mhD2919GIDXA"
      },
      "execution_count": 68,
      "outputs": []
    },
    {
      "cell_type": "code",
      "source": [
        "bowl_data = spark.read.option(\"header\",True).schema(bowl_schema).csv(\"all_season_bowling_card.csv\")"
      ],
      "metadata": {
        "id": "4FcSDGkVJdBl"
      },
      "execution_count": 69,
      "outputs": []
    },
    {
      "cell_type": "code",
      "source": [
        "bowl_data.show()"
      ],
      "metadata": {
        "colab": {
          "base_uri": "https://localhost:8080/"
        },
        "id": "8DHu0c6uJprS",
        "outputId": "58941ca3-4f85-4e73-b0b2-e7db3f6a2a28"
      },
      "execution_count": 70,
      "outputs": [
        {
          "output_type": "stream",
          "name": "stdout",
          "text": [
            "+------+--------+----------+---------+---------+------------+--------------------+------+-------+----------+-------------+------------------+-----+-------+--------+-------+-----------+----+-------------+-------------+-----+-------+-------+--------------------+\n",
            "|season|match_id|match_name|home_team|away_team|bowling_team|               venue|  city|country|innings_id|         name|          fullName|overs|maidens|conceded|wickets|economyRate|dots|foursConceded|sixesConceded|wides|noballs|captain|                href|\n",
            "+------+--------+----------+---------+---------+------------+--------------------+------+-------+----------+-------------+------------------+-----+-------+--------+-------+-----------+----+-------------+-------------+-----+-------+-------+--------------------+\n",
            "|  2022| 1304047| CSK v KKR|      CSK|      KKR|         KKR|Wankhede Stadium,...|Mumbai|  India|         1|     UT Yadav|       Umesh Yadav|  4.0|      0|      20|      2|        5.0|  15|            1|            1|    2|      1|  false|https://www.espnc...|\n",
            "|  2022| 1304047| CSK v KKR|      CSK|      KKR|         KKR|Wankhede Stadium,...|Mumbai|  India|         1|  Shivam Mavi|       Shivam Mavi|  4.0|      0|      35|      0|       8.75|  12|            3|            2|    1|      1|  false|https://www.espnc...|\n",
            "|  2022| 1304047| CSK v KKR|      CSK|      KKR|         KKR|Wankhede Stadium,...|Mumbai|  India|         1|     CV Varun|Varun Chakravarthy|  4.0|      0|      23|      1|       5.75|  11|            1|            1|    1|      0|  false|https://www.espnc...|\n",
            "|  2022| 1304047| CSK v KKR|      CSK|      KKR|         KKR|Wankhede Stadium,...|Mumbai|  India|         1|    SP Narine|      Sunil Narine|  4.0|      0|      15|      0|       3.75|  10|            0|            0|    0|      0|  false|https://www.espnc...|\n",
            "|  2022| 1304047| CSK v KKR|      CSK|      KKR|         KKR|Wankhede Stadium,...|Mumbai|  India|         1|   AD Russell|     Andre Russell|  4.0|      0|      38|      1|        9.5|   7|            5|            1|    0|      0|  false|https://www.espnc...|\n",
            "|  2022| 1304047| CSK v KKR|      CSK|      KKR|         CSK|Wankhede Stadium,...|Mumbai|  India|         2| TU Deshpande|  Tushar Deshpande|  3.0|      0|      23|      0|       7.66|   9|            4|            0|    0|      0|  false|https://www.espnc...|\n",
            "|  2022| 1304047| CSK v KKR|      CSK|      KKR|         CSK|Wankhede Stadium,...|Mumbai|  India|         2|     AF Milne|        Adam Milne|  2.3|      0|      19|      0|        7.6|   9|            2|            1|    0|      0|  false|https://www.espnc...|\n",
            "|  2022| 1304047| CSK v KKR|      CSK|      KKR|         CSK|Wankhede Stadium,...|Mumbai|  India|         2|   MJ Santner|  Mitchell Santner|  4.0|      0|      31|      1|       7.75|   5|            1|            1|    0|      0|  false|https://www.espnc...|\n",
            "|  2022| 1304047| CSK v KKR|      CSK|      KKR|         CSK|Wankhede Stadium,...|Mumbai|  India|         2|     DJ Bravo|      Dwayne Bravo|  4.0|      0|      20|      3|        5.0|  11|            2|            0|    0|      0|  false|https://www.espnc...|\n",
            "|  2022| 1304047| CSK v KKR|      CSK|      KKR|         CSK|Wankhede Stadium,...|Mumbai|  India|         2|       S Dube|       Shivam Dube|  1.0|      0|      11|      0|       11.0|   1|            2|            0|    0|      0|  false|https://www.espnc...|\n",
            "|  2022| 1304047| CSK v KKR|      CSK|      KKR|         CSK|Wankhede Stadium,...|Mumbai|  India|         2|    RA Jadeja|   Ravindra Jadeja|  4.0|      0|      25|      0|       6.25|   8|            1|            1|    0|      0|   true|https://www.espnc...|\n",
            "|  2022| 1304048|   DC v MI|       DC|       MI|          DC|Brabourne Stadium...|Mumbai|  India|         1|    SN Thakur|    Shardul Thakur|  4.0|      0|      47|      0|      11.75|   8|            3|            4|    1|      0|  false|https://www.espnc...|\n",
            "|  2022| 1304048|   DC v MI|       DC|       MI|          DC|Brabourne Stadium...|Mumbai|  India|         1|     KK Ahmed|     Khaleel Ahmed|  4.0|      0|      27|      2|       6.75|  13|            5|            0|    0|      0|  false|https://www.espnc...|\n",
            "|  2022| 1304048|   DC v MI|       DC|       MI|          DC|Brabourne Stadium...|Mumbai|  India|         1|     AR Patel|        Axar Patel|  4.0|      0|      40|      0|       10.0|   3|            4|            1|    0|      0|  false|https://www.espnc...|\n",
            "|  2022| 1304048|   DC v MI|       DC|       MI|          DC|Brabourne Stadium...|Mumbai|  India|         1| KL Nagarkoti| Kamlesh Nagarkoti|  2.0|      0|      29|      0|       14.5|   4|            5|            1|    1|      0|  false|https://www.espnc...|\n",
            "|  2022| 1304048|   DC v MI|       DC|       MI|          DC|Brabourne Stadium...|Mumbai|  India|         1|Kuldeep Yadav|     Kuldeep Yadav|  4.0|      0|      18|      3|        4.5|   8|            0|            0|    0|      0|  false|https://www.espnc...|\n",
            "|  2022| 1304048|   DC v MI|       DC|       MI|          DC|Brabourne Stadium...|Mumbai|  India|         1|  Lalit Yadav|       Lalit Yadav|  2.0|      0|      15|      0|        7.5|   2|            1|            0|    0|      0|  false|https://www.espnc...|\n",
            "|  2022| 1304048|   DC v MI|       DC|       MI|          MI|Brabourne Stadium...|Mumbai|  India|         2|      DR Sams|       Daniel Sams|  4.0|      0|      57|      0|      14.25|   4|            6|            3|    2|      0|  false|https://www.espnc...|\n",
            "|  2022| 1304048|   DC v MI|       DC|       MI|          MI|Brabourne Stadium...|Mumbai|  India|         2|    JJ Bumrah|    Jasprit Bumrah|  3.2|      0|      43|      0|       12.9|   4|            7|            1|    0|      0|  false|https://www.espnc...|\n",
            "|  2022| 1304048|   DC v MI|       DC|       MI|          MI|Brabourne Stadium...|Mumbai|  India|         2| Basil Thampi|      Basil Thampi|  4.0|      0|      35|      3|       8.75|  11|            2|            2|    3|      0|  false|https://www.espnc...|\n",
            "+------+--------+----------+---------+---------+------------+--------------------+------+-------+----------+-------------+------------------+-----+-------+--------+-------+-----------+----+-------------+-------------+-----+-------+-------+--------------------+\n",
            "only showing top 20 rows\n",
            "\n"
          ]
        }
      ]
    },
    {
      "cell_type": "code",
      "source": [
        "df2 = bowl_data.groupBy(\"season\",\"fullName\").agg(sum('wickets').cast('int').alias('TotalWickets'),sum('overs').cast('int').alias('Overs'),sum('conceded').cast('int').alias(\"RunsConceded\"),avg('wickets').alias('AvgWickets'),count('fullName').alias('TotalMatches'),max('wickets').cast('int').alias('MaxWickets'),sum('foursConceded').cast('int').alias('FoursConceded'),sum('sixesConceded').cast('int').alias('SixesConceded'),avg('economyRate').alias('AvgEconomyRate'))"
      ],
      "metadata": {
        "id": "9tSgzxMGJvFM"
      },
      "execution_count": 71,
      "outputs": []
    },
    {
      "cell_type": "markdown",
      "source": [],
      "metadata": {
        "id": "Yw7Dls-CK9cx"
      }
    },
    {
      "cell_type": "code",
      "source": [
        "df2.show()"
      ],
      "metadata": {
        "colab": {
          "base_uri": "https://localhost:8080/"
        },
        "id": "TSlUsHfsLcHH",
        "outputId": "44ec4ab9-6328-4ac1-a866-70b3c3e80c6d"
      },
      "execution_count": 72,
      "outputs": [
        {
          "output_type": "stream",
          "name": "stdout",
          "text": [
            "+------+--------------------+------------+-----+------------+------------------+------------+----------+-------------+-------------+------------------+\n",
            "|season|            fullName|TotalWickets|Overs|RunsConceded|        AvgWickets|TotalMatches|MaxWickets|FoursConceded|SixesConceded|    AvgEconomyRate|\n",
            "+------+--------------------+------------+-----+------------+------------------+------------+----------+-------------+-------------+------------------+\n",
            "|  2020|       Krunal Pandya|           6|   50|         380|             0.375|          16|         2|           27|           11|          7.828125|\n",
            "|  2020|      Marcus Stoinis|          13|   29|         283|               1.0|          13|         3|           23|           14|  9.19384611569918|\n",
            "|  2016| Ravichandran Ashwin|          10|   44|         319|0.7142857142857143|          14|         4|           22|           10| 7.612857137407575|\n",
            "|  2016|Mitchell McClenaghan|          17|   52|         436|1.2142857142857142|          14|         4|           47|           16|  8.20214285169329|\n",
            "|  2016|     Harbhajan Singh|           9|   49|         392|0.6428571428571429|          14|         2|           28|           16| 8.112857137407575|\n",
            "|  2016|     Ravindra Jadeja|           8|   39|         311|0.5714285714285714|          14|         2|           16|           14| 8.490714277539935|\n",
            "|  2014|   Bhuvneshwar Kumar|          20|   52|         354|1.4285714285714286|          14|         4|           42|            8|  6.77642856325422|\n",
            "|  2012|         Luke Wright|           0|    2|          24|               0.0|           1|         0|            1|            2|              12.0|\n",
            "|  2011|         Anand Rajan|           3|    5|          50|               1.5|           2|         3|            3|            4|             10.25|\n",
            "|  2010|         Justin Kemp|           3|    7|          54|               0.6|           5|         3|            6|            1|  8.58400001525879|\n",
            "|  2008|        Laxmi Shukla|           6|   11|         124|0.6666666666666666|           9|         3|           10|            4|10.553333282470703|\n",
            "|  2021|       Kyle Jamieson|           9|   28|         269|               1.0|           9|         3|           27|           14| 10.04444440205892|\n",
            "|  2021|      Riley Meredith|           4|   16|         169|               0.8|           5|         1|           19|            7|10.241999912261964|\n",
            "|  2020|         Imran Tahir|           1|   11|          76|0.3333333333333333|           3|         1|            3|            3|6.9433333079020185|\n",
            "|  2016|       Parvez Rasool|           1|   14|         129|              0.25|           4|         1|           14|            4| 9.414999961853027|\n",
            "|  2013|        Ravi Rampaul|          13|   37|         261|               1.3|          10|         3|           20|           12| 7.067999982833863|\n",
            "|  2011|  Shalabh Srivastava|           8|   20|         186|1.3333333333333333|           6|         2|           21|            6| 9.151666641235352|\n",
            "|  2008|            RP Singh|          15|   50|         442|1.0714285714285714|          14|         3|           56|           11|  8.42571428843907|\n",
            "|  2022|        Sanjay Yadav|           0|    2|          23|               0.0|           1|         0|            3|            1|              11.5|\n",
            "|  2021|       Ishant Sharma|           1|   12|          97|0.3333333333333333|           3|         1|            7|            5| 8.083333333333334|\n",
            "+------+--------------------+------------+-----+------------+------------------+------------+----------+-------------+-------------+------------------+\n",
            "only showing top 20 rows\n",
            "\n"
          ]
        }
      ]
    },
    {
      "cell_type": "code",
      "source": [
        "df2 = df2.withColumn(\"AvgRate\",df2['RunsConceded']/df2['TotalWickets']).withColumn(\"StrRate\",df2['Overs']*6/df2['TotalWickets'])"
      ],
      "metadata": {
        "id": "jRXyFa7ZPAUK"
      },
      "execution_count": 74,
      "outputs": []
    },
    {
      "cell_type": "code",
      "source": [
        "df2.show()"
      ],
      "metadata": {
        "colab": {
          "base_uri": "https://localhost:8080/"
        },
        "id": "37FbafhLPVLa",
        "outputId": "959d5356-e648-4a64-e7bb-56cb731e93d7"
      },
      "execution_count": 75,
      "outputs": [
        {
          "output_type": "stream",
          "name": "stdout",
          "text": [
            "+------+--------------------+------------+-----+------------+------------------+------------+----------+-------------+-------------+------------------+------------------+------------------+\n",
            "|season|            fullName|TotalWickets|Overs|RunsConceded|        AvgWickets|TotalMatches|MaxWickets|FoursConceded|SixesConceded|    AvgEconomyRate|           AvgRate|           StrRate|\n",
            "+------+--------------------+------------+-----+------------+------------------+------------+----------+-------------+-------------+------------------+------------------+------------------+\n",
            "|  2020|       Krunal Pandya|           6|   50|         380|             0.375|          16|         2|           27|           11|          7.828125|63.333333333333336|              50.0|\n",
            "|  2020|      Marcus Stoinis|          13|   29|         283|               1.0|          13|         3|           23|           14|  9.19384611569918| 21.76923076923077|13.384615384615385|\n",
            "|  2016| Ravichandran Ashwin|          10|   44|         319|0.7142857142857143|          14|         4|           22|           10| 7.612857137407575|              31.9|              26.4|\n",
            "|  2016|Mitchell McClenaghan|          17|   52|         436|1.2142857142857142|          14|         4|           47|           16|  8.20214285169329|25.647058823529413|18.352941176470587|\n",
            "|  2016|     Harbhajan Singh|           9|   49|         392|0.6428571428571429|          14|         2|           28|           16| 8.112857137407575| 43.55555555555556|32.666666666666664|\n",
            "|  2016|     Ravindra Jadeja|           8|   39|         311|0.5714285714285714|          14|         2|           16|           14| 8.490714277539935|            38.875|             29.25|\n",
            "|  2014|   Bhuvneshwar Kumar|          20|   52|         354|1.4285714285714286|          14|         4|           42|            8|  6.77642856325422|              17.7|              15.6|\n",
            "|  2012|         Luke Wright|           0|    2|          24|               0.0|           1|         0|            1|            2|              12.0|              null|              null|\n",
            "|  2011|         Anand Rajan|           3|    5|          50|               1.5|           2|         3|            3|            4|             10.25|16.666666666666668|              10.0|\n",
            "|  2010|         Justin Kemp|           3|    7|          54|               0.6|           5|         3|            6|            1|  8.58400001525879|              18.0|              14.0|\n",
            "|  2008|        Laxmi Shukla|           6|   11|         124|0.6666666666666666|           9|         3|           10|            4|10.553333282470703|20.666666666666668|              11.0|\n",
            "|  2021|       Kyle Jamieson|           9|   28|         269|               1.0|           9|         3|           27|           14| 10.04444440205892| 29.88888888888889|18.666666666666668|\n",
            "|  2021|      Riley Meredith|           4|   16|         169|               0.8|           5|         1|           19|            7|10.241999912261964|             42.25|              24.0|\n",
            "|  2020|         Imran Tahir|           1|   11|          76|0.3333333333333333|           3|         1|            3|            3|6.9433333079020185|              76.0|              66.0|\n",
            "|  2016|       Parvez Rasool|           1|   14|         129|              0.25|           4|         1|           14|            4| 9.414999961853027|             129.0|              84.0|\n",
            "|  2013|        Ravi Rampaul|          13|   37|         261|               1.3|          10|         3|           20|           12| 7.067999982833863|20.076923076923077|17.076923076923077|\n",
            "|  2011|  Shalabh Srivastava|           8|   20|         186|1.3333333333333333|           6|         2|           21|            6| 9.151666641235352|             23.25|              15.0|\n",
            "|  2008|            RP Singh|          15|   50|         442|1.0714285714285714|          14|         3|           56|           11|  8.42571428843907|29.466666666666665|              20.0|\n",
            "|  2022|        Sanjay Yadav|           0|    2|          23|               0.0|           1|         0|            3|            1|              11.5|              null|              null|\n",
            "|  2021|       Ishant Sharma|           1|   12|          97|0.3333333333333333|           3|         1|            7|            5| 8.083333333333334|              97.0|              72.0|\n",
            "+------+--------------------+------------+-----+------------+------------------+------------+----------+-------------+-------------+------------------+------------------+------------------+\n",
            "only showing top 20 rows\n",
            "\n"
          ]
        }
      ]
    },
    {
      "cell_type": "code",
      "source": [
        "df2.groupby('season').max('TotalWickets').show()"
      ],
      "metadata": {
        "colab": {
          "base_uri": "https://localhost:8080/"
        },
        "id": "GyynFtM2Lc8_",
        "outputId": "ba2b00fd-afbe-4630-8585-2ff617c6e1c1"
      },
      "execution_count": 76,
      "outputs": [
        {
          "output_type": "stream",
          "name": "stdout",
          "text": [
            "+------+-----------------+\n",
            "|season|max(TotalWickets)|\n",
            "+------+-----------------+\n",
            "|  2018|               24|\n",
            "|  2015|               26|\n",
            "|  2022|               27|\n",
            "|  2013|               32|\n",
            "|  2014|               23|\n",
            "|  2019|               26|\n",
            "|  2020|               30|\n",
            "|  2012|               25|\n",
            "|  2009|               23|\n",
            "|  2016|               23|\n",
            "|  2010|               21|\n",
            "|  2011|               28|\n",
            "|  2008|               22|\n",
            "|  2017|               26|\n",
            "|  2021|               32|\n",
            "+------+-----------------+\n",
            "\n"
          ]
        }
      ]
    },
    {
      "cell_type": "code",
      "source": [
        "fnldf = df2.dropna()"
      ],
      "metadata": {
        "id": "0J5EDvK3UIkq"
      },
      "execution_count": 77,
      "outputs": []
    },
    {
      "cell_type": "code",
      "source": [
        "fnldf.write.option(\"header\",True) \\\n",
        "        .mode(\"overwrite\") \\\n",
        "        .csv(\"purplecapdata\")"
      ],
      "metadata": {
        "id": "fuaNzXrxUNV7"
      },
      "execution_count": 78,
      "outputs": []
    },
    {
      "cell_type": "code",
      "source": [
        "bowl_Df = fnldf.toPandas()"
      ],
      "metadata": {
        "id": "REBMK_22MDgY"
      },
      "execution_count": 79,
      "outputs": []
    },
    {
      "cell_type": "code",
      "source": [
        "bowldf = bowl_Df[['TotalMatches','TotalWickets','Overs','RunsConceded','AvgWickets','MaxWickets','FoursConceded','SixesConceded','AvgEconomyRate','AvgRate','StrRate']]"
      ],
      "metadata": {
        "id": "qpCt4fCSRiio"
      },
      "execution_count": 80,
      "outputs": []
    },
    {
      "cell_type": "code",
      "source": [
        "bowldf.head()"
      ],
      "metadata": {
        "colab": {
          "base_uri": "https://localhost:8080/",
          "height": 270
        },
        "id": "lFtyV1SpT7gu",
        "outputId": "64ecf0c3-5f8a-4f11-ca2e-478b68c16d04"
      },
      "execution_count": 81,
      "outputs": [
        {
          "output_type": "execute_result",
          "data": {
            "text/plain": [
              "   TotalMatches  TotalWickets  Overs  RunsConceded  AvgWickets  MaxWickets  \\\n",
              "0            16             6     50           380    0.375000           2   \n",
              "1            13            13     29           283    1.000000           3   \n",
              "2            14            10     44           319    0.714286           4   \n",
              "3            14            17     52           436    1.214286           4   \n",
              "4            14             9     49           392    0.642857           2   \n",
              "\n",
              "   FoursConceded  SixesConceded  AvgEconomyRate    AvgRate    StrRate  \n",
              "0             27             11        7.828125  63.333333  50.000000  \n",
              "1             23             14        9.193846  21.769231  13.384615  \n",
              "2             22             10        7.612857  31.900000  26.400000  \n",
              "3             47             16        8.202143  25.647059  18.352941  \n",
              "4             28             16        8.112857  43.555556  32.666667  "
            ],
            "text/html": [
              "\n",
              "  <div id=\"df-5a6449c5-dda5-455b-8e52-c95e2e7c79cf\">\n",
              "    <div class=\"colab-df-container\">\n",
              "      <div>\n",
              "<style scoped>\n",
              "    .dataframe tbody tr th:only-of-type {\n",
              "        vertical-align: middle;\n",
              "    }\n",
              "\n",
              "    .dataframe tbody tr th {\n",
              "        vertical-align: top;\n",
              "    }\n",
              "\n",
              "    .dataframe thead th {\n",
              "        text-align: right;\n",
              "    }\n",
              "</style>\n",
              "<table border=\"1\" class=\"dataframe\">\n",
              "  <thead>\n",
              "    <tr style=\"text-align: right;\">\n",
              "      <th></th>\n",
              "      <th>TotalMatches</th>\n",
              "      <th>TotalWickets</th>\n",
              "      <th>Overs</th>\n",
              "      <th>RunsConceded</th>\n",
              "      <th>AvgWickets</th>\n",
              "      <th>MaxWickets</th>\n",
              "      <th>FoursConceded</th>\n",
              "      <th>SixesConceded</th>\n",
              "      <th>AvgEconomyRate</th>\n",
              "      <th>AvgRate</th>\n",
              "      <th>StrRate</th>\n",
              "    </tr>\n",
              "  </thead>\n",
              "  <tbody>\n",
              "    <tr>\n",
              "      <th>0</th>\n",
              "      <td>16</td>\n",
              "      <td>6</td>\n",
              "      <td>50</td>\n",
              "      <td>380</td>\n",
              "      <td>0.375000</td>\n",
              "      <td>2</td>\n",
              "      <td>27</td>\n",
              "      <td>11</td>\n",
              "      <td>7.828125</td>\n",
              "      <td>63.333333</td>\n",
              "      <td>50.000000</td>\n",
              "    </tr>\n",
              "    <tr>\n",
              "      <th>1</th>\n",
              "      <td>13</td>\n",
              "      <td>13</td>\n",
              "      <td>29</td>\n",
              "      <td>283</td>\n",
              "      <td>1.000000</td>\n",
              "      <td>3</td>\n",
              "      <td>23</td>\n",
              "      <td>14</td>\n",
              "      <td>9.193846</td>\n",
              "      <td>21.769231</td>\n",
              "      <td>13.384615</td>\n",
              "    </tr>\n",
              "    <tr>\n",
              "      <th>2</th>\n",
              "      <td>14</td>\n",
              "      <td>10</td>\n",
              "      <td>44</td>\n",
              "      <td>319</td>\n",
              "      <td>0.714286</td>\n",
              "      <td>4</td>\n",
              "      <td>22</td>\n",
              "      <td>10</td>\n",
              "      <td>7.612857</td>\n",
              "      <td>31.900000</td>\n",
              "      <td>26.400000</td>\n",
              "    </tr>\n",
              "    <tr>\n",
              "      <th>3</th>\n",
              "      <td>14</td>\n",
              "      <td>17</td>\n",
              "      <td>52</td>\n",
              "      <td>436</td>\n",
              "      <td>1.214286</td>\n",
              "      <td>4</td>\n",
              "      <td>47</td>\n",
              "      <td>16</td>\n",
              "      <td>8.202143</td>\n",
              "      <td>25.647059</td>\n",
              "      <td>18.352941</td>\n",
              "    </tr>\n",
              "    <tr>\n",
              "      <th>4</th>\n",
              "      <td>14</td>\n",
              "      <td>9</td>\n",
              "      <td>49</td>\n",
              "      <td>392</td>\n",
              "      <td>0.642857</td>\n",
              "      <td>2</td>\n",
              "      <td>28</td>\n",
              "      <td>16</td>\n",
              "      <td>8.112857</td>\n",
              "      <td>43.555556</td>\n",
              "      <td>32.666667</td>\n",
              "    </tr>\n",
              "  </tbody>\n",
              "</table>\n",
              "</div>\n",
              "      <button class=\"colab-df-convert\" onclick=\"convertToInteractive('df-5a6449c5-dda5-455b-8e52-c95e2e7c79cf')\"\n",
              "              title=\"Convert this dataframe to an interactive table.\"\n",
              "              style=\"display:none;\">\n",
              "        \n",
              "  <svg xmlns=\"http://www.w3.org/2000/svg\" height=\"24px\"viewBox=\"0 0 24 24\"\n",
              "       width=\"24px\">\n",
              "    <path d=\"M0 0h24v24H0V0z\" fill=\"none\"/>\n",
              "    <path d=\"M18.56 5.44l.94 2.06.94-2.06 2.06-.94-2.06-.94-.94-2.06-.94 2.06-2.06.94zm-11 1L8.5 8.5l.94-2.06 2.06-.94-2.06-.94L8.5 2.5l-.94 2.06-2.06.94zm10 10l.94 2.06.94-2.06 2.06-.94-2.06-.94-.94-2.06-.94 2.06-2.06.94z\"/><path d=\"M17.41 7.96l-1.37-1.37c-.4-.4-.92-.59-1.43-.59-.52 0-1.04.2-1.43.59L10.3 9.45l-7.72 7.72c-.78.78-.78 2.05 0 2.83L4 21.41c.39.39.9.59 1.41.59.51 0 1.02-.2 1.41-.59l7.78-7.78 2.81-2.81c.8-.78.8-2.07 0-2.86zM5.41 20L4 18.59l7.72-7.72 1.47 1.35L5.41 20z\"/>\n",
              "  </svg>\n",
              "      </button>\n",
              "      \n",
              "  <style>\n",
              "    .colab-df-container {\n",
              "      display:flex;\n",
              "      flex-wrap:wrap;\n",
              "      gap: 12px;\n",
              "    }\n",
              "\n",
              "    .colab-df-convert {\n",
              "      background-color: #E8F0FE;\n",
              "      border: none;\n",
              "      border-radius: 50%;\n",
              "      cursor: pointer;\n",
              "      display: none;\n",
              "      fill: #1967D2;\n",
              "      height: 32px;\n",
              "      padding: 0 0 0 0;\n",
              "      width: 32px;\n",
              "    }\n",
              "\n",
              "    .colab-df-convert:hover {\n",
              "      background-color: #E2EBFA;\n",
              "      box-shadow: 0px 1px 2px rgba(60, 64, 67, 0.3), 0px 1px 3px 1px rgba(60, 64, 67, 0.15);\n",
              "      fill: #174EA6;\n",
              "    }\n",
              "\n",
              "    [theme=dark] .colab-df-convert {\n",
              "      background-color: #3B4455;\n",
              "      fill: #D2E3FC;\n",
              "    }\n",
              "\n",
              "    [theme=dark] .colab-df-convert:hover {\n",
              "      background-color: #434B5C;\n",
              "      box-shadow: 0px 1px 3px 1px rgba(0, 0, 0, 0.15);\n",
              "      filter: drop-shadow(0px 1px 2px rgba(0, 0, 0, 0.3));\n",
              "      fill: #FFFFFF;\n",
              "    }\n",
              "  </style>\n",
              "\n",
              "      <script>\n",
              "        const buttonEl =\n",
              "          document.querySelector('#df-5a6449c5-dda5-455b-8e52-c95e2e7c79cf button.colab-df-convert');\n",
              "        buttonEl.style.display =\n",
              "          google.colab.kernel.accessAllowed ? 'block' : 'none';\n",
              "\n",
              "        async function convertToInteractive(key) {\n",
              "          const element = document.querySelector('#df-5a6449c5-dda5-455b-8e52-c95e2e7c79cf');\n",
              "          const dataTable =\n",
              "            await google.colab.kernel.invokeFunction('convertToInteractive',\n",
              "                                                     [key], {});\n",
              "          if (!dataTable) return;\n",
              "\n",
              "          const docLinkHtml = 'Like what you see? Visit the ' +\n",
              "            '<a target=\"_blank\" href=https://colab.research.google.com/notebooks/data_table.ipynb>data table notebook</a>'\n",
              "            + ' to learn more about interactive tables.';\n",
              "          element.innerHTML = '';\n",
              "          dataTable['output_type'] = 'display_data';\n",
              "          await google.colab.output.renderOutput(dataTable, element);\n",
              "          const docLink = document.createElement('div');\n",
              "          docLink.innerHTML = docLinkHtml;\n",
              "          element.appendChild(docLink);\n",
              "        }\n",
              "      </script>\n",
              "    </div>\n",
              "  </div>\n",
              "  "
            ]
          },
          "metadata": {},
          "execution_count": 81
        }
      ]
    },
    {
      "cell_type": "code",
      "source": [
        "X = bowldf[['TotalMatches','Overs','RunsConceded','AvgWickets','AvgRate','AvgEconomyRate','StrRate']]\n",
        "y = bowldf[['TotalWickets']]"
      ],
      "metadata": {
        "id": "tbkDcTKLSkvo"
      },
      "execution_count": 94,
      "outputs": []
    },
    {
      "cell_type": "code",
      "source": [
        "X_train, X_test, y_train, y_test = train_test_split(X,y,test_size=0.2, random_state=0)"
      ],
      "metadata": {
        "id": "PNTqsu0_Uwae"
      },
      "execution_count": 95,
      "outputs": []
    },
    {
      "cell_type": "code",
      "source": [
        "model = LinearRegression()\n",
        "model.fit(X_train, y_train)"
      ],
      "metadata": {
        "colab": {
          "base_uri": "https://localhost:8080/",
          "height": 75
        },
        "id": "QXqFGNXuUxJe",
        "outputId": "b3ae14c4-157d-499c-9711-ff5642105d80"
      },
      "execution_count": 96,
      "outputs": [
        {
          "output_type": "execute_result",
          "data": {
            "text/plain": [
              "LinearRegression()"
            ],
            "text/html": [
              "<style>#sk-container-id-2 {color: black;background-color: white;}#sk-container-id-2 pre{padding: 0;}#sk-container-id-2 div.sk-toggleable {background-color: white;}#sk-container-id-2 label.sk-toggleable__label {cursor: pointer;display: block;width: 100%;margin-bottom: 0;padding: 0.3em;box-sizing: border-box;text-align: center;}#sk-container-id-2 label.sk-toggleable__label-arrow:before {content: \"▸\";float: left;margin-right: 0.25em;color: #696969;}#sk-container-id-2 label.sk-toggleable__label-arrow:hover:before {color: black;}#sk-container-id-2 div.sk-estimator:hover label.sk-toggleable__label-arrow:before {color: black;}#sk-container-id-2 div.sk-toggleable__content {max-height: 0;max-width: 0;overflow: hidden;text-align: left;background-color: #f0f8ff;}#sk-container-id-2 div.sk-toggleable__content pre {margin: 0.2em;color: black;border-radius: 0.25em;background-color: #f0f8ff;}#sk-container-id-2 input.sk-toggleable__control:checked~div.sk-toggleable__content {max-height: 200px;max-width: 100%;overflow: auto;}#sk-container-id-2 input.sk-toggleable__control:checked~label.sk-toggleable__label-arrow:before {content: \"▾\";}#sk-container-id-2 div.sk-estimator input.sk-toggleable__control:checked~label.sk-toggleable__label {background-color: #d4ebff;}#sk-container-id-2 div.sk-label input.sk-toggleable__control:checked~label.sk-toggleable__label {background-color: #d4ebff;}#sk-container-id-2 input.sk-hidden--visually {border: 0;clip: rect(1px 1px 1px 1px);clip: rect(1px, 1px, 1px, 1px);height: 1px;margin: -1px;overflow: hidden;padding: 0;position: absolute;width: 1px;}#sk-container-id-2 div.sk-estimator {font-family: monospace;background-color: #f0f8ff;border: 1px dotted black;border-radius: 0.25em;box-sizing: border-box;margin-bottom: 0.5em;}#sk-container-id-2 div.sk-estimator:hover {background-color: #d4ebff;}#sk-container-id-2 div.sk-parallel-item::after {content: \"\";width: 100%;border-bottom: 1px solid gray;flex-grow: 1;}#sk-container-id-2 div.sk-label:hover label.sk-toggleable__label {background-color: #d4ebff;}#sk-container-id-2 div.sk-serial::before {content: \"\";position: absolute;border-left: 1px solid gray;box-sizing: border-box;top: 0;bottom: 0;left: 50%;z-index: 0;}#sk-container-id-2 div.sk-serial {display: flex;flex-direction: column;align-items: center;background-color: white;padding-right: 0.2em;padding-left: 0.2em;position: relative;}#sk-container-id-2 div.sk-item {position: relative;z-index: 1;}#sk-container-id-2 div.sk-parallel {display: flex;align-items: stretch;justify-content: center;background-color: white;position: relative;}#sk-container-id-2 div.sk-item::before, #sk-container-id-2 div.sk-parallel-item::before {content: \"\";position: absolute;border-left: 1px solid gray;box-sizing: border-box;top: 0;bottom: 0;left: 50%;z-index: -1;}#sk-container-id-2 div.sk-parallel-item {display: flex;flex-direction: column;z-index: 1;position: relative;background-color: white;}#sk-container-id-2 div.sk-parallel-item:first-child::after {align-self: flex-end;width: 50%;}#sk-container-id-2 div.sk-parallel-item:last-child::after {align-self: flex-start;width: 50%;}#sk-container-id-2 div.sk-parallel-item:only-child::after {width: 0;}#sk-container-id-2 div.sk-dashed-wrapped {border: 1px dashed gray;margin: 0 0.4em 0.5em 0.4em;box-sizing: border-box;padding-bottom: 0.4em;background-color: white;}#sk-container-id-2 div.sk-label label {font-family: monospace;font-weight: bold;display: inline-block;line-height: 1.2em;}#sk-container-id-2 div.sk-label-container {text-align: center;}#sk-container-id-2 div.sk-container {/* jupyter's `normalize.less` sets `[hidden] { display: none; }` but bootstrap.min.css set `[hidden] { display: none !important; }` so we also need the `!important` here to be able to override the default hidden behavior on the sphinx rendered scikit-learn.org. See: https://github.com/scikit-learn/scikit-learn/issues/21755 */display: inline-block !important;position: relative;}#sk-container-id-2 div.sk-text-repr-fallback {display: none;}</style><div id=\"sk-container-id-2\" class=\"sk-top-container\"><div class=\"sk-text-repr-fallback\"><pre>LinearRegression()</pre><b>In a Jupyter environment, please rerun this cell to show the HTML representation or trust the notebook. <br />On GitHub, the HTML representation is unable to render, please try loading this page with nbviewer.org.</b></div><div class=\"sk-container\" hidden><div class=\"sk-item\"><div class=\"sk-estimator sk-toggleable\"><input class=\"sk-toggleable__control sk-hidden--visually\" id=\"sk-estimator-id-2\" type=\"checkbox\" checked><label for=\"sk-estimator-id-2\" class=\"sk-toggleable__label sk-toggleable__label-arrow\">LinearRegression</label><div class=\"sk-toggleable__content\"><pre>LinearRegression()</pre></div></div></div></div></div>"
            ]
          },
          "metadata": {},
          "execution_count": 96
        }
      ]
    },
    {
      "cell_type": "code",
      "source": [
        "y_pred = model.predict(X_test)\n",
        "mse = mean_squared_error(y_test, y_pred)\n",
        "print(\"Mean Squared Error\", mse)"
      ],
      "metadata": {
        "colab": {
          "base_uri": "https://localhost:8080/"
        },
        "id": "CGXfFt0EU8Po",
        "outputId": "73f54893-8451-4ef1-ad99-2094f7f3a1e1"
      },
      "execution_count": 97,
      "outputs": [
        {
          "output_type": "stream",
          "name": "stdout",
          "text": [
            "Mean Squared Error 2.808570687887071\n"
          ]
        }
      ]
    },
    {
      "cell_type": "code",
      "source": [
        "#2023 Purple Cap Data "
      ],
      "metadata": {
        "id": "gXK-BEu8VHaF"
      },
      "execution_count": 98,
      "outputs": []
    },
    {
      "cell_type": "code",
      "source": [
        "bowl23_schema = StructType([StructField('fullName', StringType(), True),\n",
        "  StructField('Matches', IntegerType(), True),\n",
        "  StructField('TotalMatches', IntegerType(), True),\n",
        "  StructField('Overs', FloatType(), True),\n",
        "  StructField('RunsConceded', IntegerType(), True),\n",
        "  StructField('TotalWickets', IntegerType(), True),\n",
        "  StructField('AvgRate', FloatType(), True),\n",
        "  StructField('AvgEconomyRate', FloatType(), True),\n",
        "  StructField('StrRate', FloatType(), True),\n",
        "  StructField('4w', IntegerType(), True),\n",
        "  StructField('5w', IntegerType(), True)])"
      ],
      "metadata": {
        "id": "WA_CSA_sVMbW"
      },
      "execution_count": 120,
      "outputs": []
    },
    {
      "cell_type": "code",
      "source": [
        "curr_data = spark.read.option(\"header\",True).schema(bowl23_schema).csv(\"2023purplecap.csv\")"
      ],
      "metadata": {
        "id": "GlwMea1HrY8v"
      },
      "execution_count": 121,
      "outputs": []
    },
    {
      "cell_type": "code",
      "source": [
        "curr_data.show()"
      ],
      "metadata": {
        "id": "-F_Y8ML_wNVw",
        "outputId": "b2970fa7-1998-40b1-92ab-f475ff0858da",
        "colab": {
          "base_uri": "https://localhost:8080/"
        }
      },
      "execution_count": 122,
      "outputs": [
        {
          "output_type": "stream",
          "name": "stdout",
          "text": [
            "+-------------------+-------+------------+-----+------------+------------+-------+--------------+-------+---+---+\n",
            "|           fullName|Matches|TotalMatches|Overs|RunsConceded|TotalWickets|AvgRate|AvgEconomyRate|StrRate| 4w| 5w|\n",
            "+-------------------+-------+------------+-----+------------+------------+-------+--------------+-------+---+---+\n",
            "|   Tushar Deshpande|     11|          11| 38.2|         396|          19|  20.84|         10.33|   12.1|  0|  0|\n",
            "|     Mohammad Shami|     10|          10| 39.0|         274|          18|  15.22|          7.02|   13.0|  1|  0|\n",
            "|        Rashid Khan|     10|          10| 40.0|         322|          18|  17.88|          8.05|  13.33|  0|  0|\n",
            "|      Piyush Chawla|     10|          10| 39.0|         280|          17|  16.47|          7.17|  13.76|  0|  0|\n",
            "|     Arshdeep Singh|     10|          10| 36.5|         361|          16|  22.56|           9.8|  13.81|  1|  0|\n",
            "|    Ravindra Jadeja|     11|          11| 39.0|         288|          15|   19.2|          7.38|   15.6|  0|  0|\n",
            "|     Mohammed Siraj|     10|          10| 37.0|         286|          15|  19.06|          7.72|   14.8|  1|  0|\n",
            "|Varun Chakaravarthy|     10|          10| 37.4|         301|          14|   21.5|          7.99|  16.14|  1|  0|\n",
            "|Ravichandran Ashwin|     10|          10| 37.0|         268|          13|  20.61|          7.24|  17.07|  0|  0|\n",
            "|   Yuzvendra Chahal|     10|          10| 36.5|         301|          13|  23.15|          8.17|   17.0|  1|  0|\n",
            "|       Ravi Bishnoi|     10|           9| 34.3|         268|          12|  22.33|          7.76|  17.25|  0|  0|\n",
            "|      Harshal Patel|     10|          10| 35.3|         347|          12|  28.91|          9.77|  17.75|  0|  0|\n",
            "|    Mayank Markande|      7|           7| 28.0|         183|          11|  16.63|          6.53|  15.27|  1|  0|\n",
            "|          Mark Wood|      4|           4| 16.0|         130|          11|  11.81|          8.12|   8.72|  0|  1|\n",
            "|         Noor Ahmad|      6|           6| 21.2|         150|          10|   15.0|          7.03|   12.8|  0|  0|\n",
            "|Matheesha Pathirana|      7|           7| 27.2|         208|          10|   20.8|           7.6|   16.4|  0|  0|\n",
            "|        Trent Boult|      8|           8| 31.0|         262|          10|   26.2|          8.45|   18.6|  0|  0|\n",
            "|     Mitchell Marsh|      7|           6| 16.1|         131|           9|  14.55|           8.1|  10.77|  1|  0|\n",
            "|          Moeen Ali|     10|           9| 18.0|         148|           9|  16.44|          8.22|   12.0|  1|  0|\n",
            "|      Suyash Sharma|      7|           7| 28.0|         232|           9|  25.77|          8.28|  18.66|  0|  0|\n",
            "+-------------------+-------+------------+-----+------------+------------+-------+--------------+-------+---+---+\n",
            "only showing top 20 rows\n",
            "\n"
          ]
        }
      ]
    },
    {
      "cell_type": "code",
      "source": [
        "curr_data = curr_data.withColumn(\"AvgWickets\", curr_data['TotalWickets']/curr_data['TotalMatches'])"
      ],
      "metadata": {
        "id": "CGp3XBqVyqog"
      },
      "execution_count": 123,
      "outputs": []
    },
    {
      "cell_type": "code",
      "source": [
        "curr_data.show()"
      ],
      "metadata": {
        "id": "xAFd_JX3y7Q9",
        "outputId": "859b57df-b098-46c4-f44d-a581834bb6b4",
        "colab": {
          "base_uri": "https://localhost:8080/"
        }
      },
      "execution_count": 124,
      "outputs": [
        {
          "output_type": "stream",
          "name": "stdout",
          "text": [
            "+-------------------+-------+------------+-----+------------+------------+-------+--------------+-------+---+---+------------------+\n",
            "|           fullName|Matches|TotalMatches|Overs|RunsConceded|TotalWickets|AvgRate|AvgEconomyRate|StrRate| 4w| 5w|        AvgWickets|\n",
            "+-------------------+-------+------------+-----+------------+------------+-------+--------------+-------+---+---+------------------+\n",
            "|   Tushar Deshpande|     11|          11| 38.2|         396|          19|  20.84|         10.33|   12.1|  0|  0|1.7272727272727273|\n",
            "|     Mohammad Shami|     10|          10| 39.0|         274|          18|  15.22|          7.02|   13.0|  1|  0|               1.8|\n",
            "|        Rashid Khan|     10|          10| 40.0|         322|          18|  17.88|          8.05|  13.33|  0|  0|               1.8|\n",
            "|      Piyush Chawla|     10|          10| 39.0|         280|          17|  16.47|          7.17|  13.76|  0|  0|               1.7|\n",
            "|     Arshdeep Singh|     10|          10| 36.5|         361|          16|  22.56|           9.8|  13.81|  1|  0|               1.6|\n",
            "|    Ravindra Jadeja|     11|          11| 39.0|         288|          15|   19.2|          7.38|   15.6|  0|  0|1.3636363636363635|\n",
            "|     Mohammed Siraj|     10|          10| 37.0|         286|          15|  19.06|          7.72|   14.8|  1|  0|               1.5|\n",
            "|Varun Chakaravarthy|     10|          10| 37.4|         301|          14|   21.5|          7.99|  16.14|  1|  0|               1.4|\n",
            "|Ravichandran Ashwin|     10|          10| 37.0|         268|          13|  20.61|          7.24|  17.07|  0|  0|               1.3|\n",
            "|   Yuzvendra Chahal|     10|          10| 36.5|         301|          13|  23.15|          8.17|   17.0|  1|  0|               1.3|\n",
            "|       Ravi Bishnoi|     10|           9| 34.3|         268|          12|  22.33|          7.76|  17.25|  0|  0|1.3333333333333333|\n",
            "|      Harshal Patel|     10|          10| 35.3|         347|          12|  28.91|          9.77|  17.75|  0|  0|               1.2|\n",
            "|    Mayank Markande|      7|           7| 28.0|         183|          11|  16.63|          6.53|  15.27|  1|  0|1.5714285714285714|\n",
            "|          Mark Wood|      4|           4| 16.0|         130|          11|  11.81|          8.12|   8.72|  0|  1|              2.75|\n",
            "|         Noor Ahmad|      6|           6| 21.2|         150|          10|   15.0|          7.03|   12.8|  0|  0|1.6666666666666667|\n",
            "|Matheesha Pathirana|      7|           7| 27.2|         208|          10|   20.8|           7.6|   16.4|  0|  0|1.4285714285714286|\n",
            "|        Trent Boult|      8|           8| 31.0|         262|          10|   26.2|          8.45|   18.6|  0|  0|              1.25|\n",
            "|     Mitchell Marsh|      7|           6| 16.1|         131|           9|  14.55|           8.1|  10.77|  1|  0|               1.5|\n",
            "|          Moeen Ali|     10|           9| 18.0|         148|           9|  16.44|          8.22|   12.0|  1|  0|               1.0|\n",
            "|      Suyash Sharma|      7|           7| 28.0|         232|           9|  25.77|          8.28|  18.66|  0|  0|1.2857142857142858|\n",
            "+-------------------+-------+------------+-----+------------+------------+-------+--------------+-------+---+---+------------------+\n",
            "only showing top 20 rows\n",
            "\n"
          ]
        }
      ]
    },
    {
      "cell_type": "code",
      "source": [
        "current_data = curr_data.toPandas()"
      ],
      "metadata": {
        "id": "x6x70kVDzBHf"
      },
      "execution_count": 125,
      "outputs": []
    },
    {
      "cell_type": "code",
      "source": [
        "X = current_data[['TotalMatches','Overs','RunsConceded','AvgWickets','AvgRate','AvgEconomyRate','StrRate']]\n",
        "# y = bowldf[['TotalWickets']]"
      ],
      "metadata": {
        "id": "69ujqieixVAh"
      },
      "execution_count": 126,
      "outputs": []
    },
    {
      "cell_type": "code",
      "source": [
        "predicted_wickets = model.predict(X)"
      ],
      "metadata": {
        "id": "HAqi28NuybLS"
      },
      "execution_count": 127,
      "outputs": []
    },
    {
      "cell_type": "code",
      "source": [
        "print(predicted_wickets)"
      ],
      "metadata": {
        "id": "_-E3H7zEzaOZ",
        "outputId": "e09f0a8f-b8f8-40fd-be8d-884022d992e8",
        "colab": {
          "base_uri": "https://localhost:8080/"
        }
      },
      "execution_count": 128,
      "outputs": [
        {
          "output_type": "stream",
          "name": "stdout",
          "text": [
            "[[14.43965727]\n",
            " [15.10169129]\n",
            " [15.01008449]\n",
            " [14.58195857]\n",
            " [13.21437821]\n",
            " [13.44085737]\n",
            " [13.21961601]\n",
            " [12.70951096]\n",
            " [12.28975904]\n",
            " [12.05687881]\n",
            " [11.42820047]\n",
            " [11.1992555 ]\n",
            " [10.77164255]\n",
            " [12.80528726]\n",
            " [ 9.70943579]\n",
            " [ 9.83240258]\n",
            " [ 9.94140369]\n",
            " [ 8.20712978]\n",
            " [ 7.70339254]\n",
            " [ 9.16736897]\n",
            " [ 8.83070673]\n",
            " [ 7.37894153]\n",
            " [ 9.21329615]\n",
            " [ 8.5336659 ]\n",
            " [ 8.6469002 ]\n",
            " [ 8.1207008 ]\n",
            " [ 8.37525943]\n",
            " [ 7.65885936]\n",
            " [ 7.76345931]\n",
            " [ 8.24851425]\n",
            " [ 8.16717373]\n",
            " [ 7.3295701 ]\n",
            " [ 8.04555434]\n",
            " [ 8.49424398]\n",
            " [ 7.42861813]\n",
            " [ 8.06249772]\n",
            " [ 8.56579572]\n",
            " [ 7.40612448]\n",
            " [ 5.88073884]\n",
            " [ 6.23366731]\n",
            " [ 6.18712893]\n",
            " [ 5.64987532]\n",
            " [ 6.96102644]\n",
            " [ 6.33662494]\n",
            " [ 6.36926028]\n",
            " [ 6.82340489]\n",
            " [ 6.22297523]\n",
            " [ 6.77227095]\n",
            " [ 5.0561609 ]\n",
            " [ 5.33618021]\n",
            " [ 5.75475316]\n",
            " [ 5.5408247 ]\n",
            " [ 5.23743308]\n",
            " [ 6.53408323]\n",
            " [ 5.00695619]\n",
            " [ 4.76004563]\n",
            " [ 4.28063722]\n",
            " [ 5.55122263]\n",
            " [ 3.94624381]\n",
            " [ 4.65516156]\n",
            " [ 3.08478205]\n",
            " [ 2.60096627]\n",
            " [ 4.64377117]\n",
            " [ 4.69293417]\n",
            " [ 3.32349777]\n",
            " [ 2.9950256 ]\n",
            " [ 4.90583576]\n",
            " [ 2.57911289]\n",
            " [ 3.04464   ]\n",
            " [ 4.66940942]\n",
            " [ 2.70271274]\n",
            " [ 0.98941351]\n",
            " [ 2.07549403]\n",
            " [ 0.83439981]\n",
            " [ 0.8528903 ]\n",
            " [ 2.14677381]\n",
            " [ 2.229522  ]\n",
            " [ 1.82853168]\n",
            " [ 1.6537738 ]\n",
            " [ 1.51027549]\n",
            " [ 2.26455491]\n",
            " [ 2.31126548]\n",
            " [ 2.62542848]\n",
            " [ 6.17834431]\n",
            " [ 1.24744238]\n",
            " [ 2.36259349]\n",
            " [ 0.96893804]\n",
            " [-2.01510024]\n",
            " [ 1.31295169]\n",
            " [ 1.31295169]\n",
            " [-1.24094034]\n",
            " [-0.79898856]\n",
            " [ 1.27539929]\n",
            " [-0.51904958]\n",
            " [ 1.39135797]\n",
            " [ 0.89861626]\n",
            " [ 1.42446511]\n",
            " [-0.23392298]\n",
            " [ 0.2454296 ]\n",
            " [ 0.19345293]\n",
            " [ 0.58608787]\n",
            " [ 2.04223939]\n",
            " [ 1.62657682]]\n"
          ]
        }
      ]
    },
    {
      "cell_type": "code",
      "source": [],
      "metadata": {
        "id": "xofahGJ10P7w"
      },
      "execution_count": null,
      "outputs": []
    }
  ]
}