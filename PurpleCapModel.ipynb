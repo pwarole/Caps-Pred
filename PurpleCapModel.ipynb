{
  "nbformat": 4,
  "nbformat_minor": 0,
  "metadata": {
    "colab": {
      "provenance": []
    },
    "kernelspec": {
      "name": "python3",
      "display_name": "Python 3"
    },
    "language_info": {
      "name": "python"
    }
  },
  "cells": [
    {
      "cell_type": "code",
      "execution_count": 1,
      "metadata": {
        "id": "oJzs_gvQfW_q"
      },
      "outputs": [],
      "source": [
        "import pandas as pd"
      ]
    },
    {
      "cell_type": "code",
      "source": [
        "!pip install pyspark"
      ],
      "metadata": {
        "colab": {
          "base_uri": "https://localhost:8080/"
        },
        "id": "R9rPGE0tgSMI",
        "outputId": "f26e617c-269f-409d-9b77-6e1a629e92c0"
      },
      "execution_count": 2,
      "outputs": [
        {
          "output_type": "stream",
          "name": "stdout",
          "text": [
            "Looking in indexes: https://pypi.org/simple, https://us-python.pkg.dev/colab-wheels/public/simple/\n",
            "Collecting pyspark\n",
            "  Downloading pyspark-3.4.0.tar.gz (310.8 MB)\n",
            "\u001b[2K     \u001b[90m━━━━━━━━━━━━━━━━━━━━━━━━━━━━━━━━━━━━━━━\u001b[0m \u001b[32m310.8/310.8 MB\u001b[0m \u001b[31m4.3 MB/s\u001b[0m eta \u001b[36m0:00:00\u001b[0m\n",
            "\u001b[?25h  Preparing metadata (setup.py) ... \u001b[?25l\u001b[?25hdone\n",
            "Requirement already satisfied: py4j==0.10.9.7 in /usr/local/lib/python3.10/dist-packages (from pyspark) (0.10.9.7)\n",
            "Building wheels for collected packages: pyspark\n",
            "  Building wheel for pyspark (setup.py) ... \u001b[?25l\u001b[?25hdone\n",
            "  Created wheel for pyspark: filename=pyspark-3.4.0-py2.py3-none-any.whl size=311317130 sha256=e0f20004db48538ee8212b2cc59134733a04829723ce7b3224c90fb2e70b3fbb\n",
            "  Stored in directory: /root/.cache/pip/wheels/7b/1b/4b/3363a1d04368e7ff0d408e57ff57966fcdf00583774e761327\n",
            "Successfully built pyspark\n",
            "Installing collected packages: pyspark\n",
            "Successfully installed pyspark-3.4.0\n"
          ]
        }
      ]
    },
    {
      "cell_type": "code",
      "source": [
        "import numpy as np\n",
        "from sklearn.model_selection import train_test_split\n",
        "from sklearn.linear_model import LinearRegression\n",
        "from sklearn.metrics import mean_squared_error"
      ],
      "metadata": {
        "id": "izsY7SfFgUZP"
      },
      "execution_count": 3,
      "outputs": []
    },
    {
      "cell_type": "code",
      "source": [
        "bowl_df = pd.read_csv('AllSeasonPurpleCapData.csv')"
      ],
      "metadata": {
        "id": "JizY7khigxfe"
      },
      "execution_count": 4,
      "outputs": []
    },
    {
      "cell_type": "code",
      "source": [
        "bowl_df.head()"
      ],
      "metadata": {
        "colab": {
          "base_uri": "https://localhost:8080/",
          "height": 357
        },
        "id": "Oufnusm-hDSz",
        "outputId": "81a59226-0f6e-40e9-ac76-a956d84d63d4"
      },
      "execution_count": 6,
      "outputs": [
        {
          "output_type": "execute_result",
          "data": {
            "text/plain": [
              "   season              fullName  TotalWickets  Overs  RunsConceded  \\\n",
              "0    2020         Krunal Pandya             6     50           380   \n",
              "1    2020        Marcus Stoinis            13     29           283   \n",
              "2    2016   Ravichandran Ashwin            10     44           319   \n",
              "3    2016  Mitchell McClenaghan            17     52           436   \n",
              "4    2016       Harbhajan Singh             9     49           392   \n",
              "\n",
              "   AvgWickets  TotalMatches  MaxWickets  FoursConceded  SixesConceded  \\\n",
              "0    0.375000            16           2             27             11   \n",
              "1    1.000000            13           3             23             14   \n",
              "2    0.714286            14           4             22             10   \n",
              "3    1.214286            14           4             47             16   \n",
              "4    0.642857            14           2             28             16   \n",
              "\n",
              "   AvgEconomyRate    AvgRate    StrRate  \n",
              "0        7.828125  63.333333  50.000000  \n",
              "1        9.193846  21.769231  13.384615  \n",
              "2        7.612857  31.900000  26.400000  \n",
              "3        8.202143  25.647059  18.352941  \n",
              "4        8.112857  43.555556  32.666667  "
            ],
            "text/html": [
              "\n",
              "  <div id=\"df-44e12569-9485-4063-b124-8efd010b57d4\">\n",
              "    <div class=\"colab-df-container\">\n",
              "      <div>\n",
              "<style scoped>\n",
              "    .dataframe tbody tr th:only-of-type {\n",
              "        vertical-align: middle;\n",
              "    }\n",
              "\n",
              "    .dataframe tbody tr th {\n",
              "        vertical-align: top;\n",
              "    }\n",
              "\n",
              "    .dataframe thead th {\n",
              "        text-align: right;\n",
              "    }\n",
              "</style>\n",
              "<table border=\"1\" class=\"dataframe\">\n",
              "  <thead>\n",
              "    <tr style=\"text-align: right;\">\n",
              "      <th></th>\n",
              "      <th>season</th>\n",
              "      <th>fullName</th>\n",
              "      <th>TotalWickets</th>\n",
              "      <th>Overs</th>\n",
              "      <th>RunsConceded</th>\n",
              "      <th>AvgWickets</th>\n",
              "      <th>TotalMatches</th>\n",
              "      <th>MaxWickets</th>\n",
              "      <th>FoursConceded</th>\n",
              "      <th>SixesConceded</th>\n",
              "      <th>AvgEconomyRate</th>\n",
              "      <th>AvgRate</th>\n",
              "      <th>StrRate</th>\n",
              "    </tr>\n",
              "  </thead>\n",
              "  <tbody>\n",
              "    <tr>\n",
              "      <th>0</th>\n",
              "      <td>2020</td>\n",
              "      <td>Krunal Pandya</td>\n",
              "      <td>6</td>\n",
              "      <td>50</td>\n",
              "      <td>380</td>\n",
              "      <td>0.375000</td>\n",
              "      <td>16</td>\n",
              "      <td>2</td>\n",
              "      <td>27</td>\n",
              "      <td>11</td>\n",
              "      <td>7.828125</td>\n",
              "      <td>63.333333</td>\n",
              "      <td>50.000000</td>\n",
              "    </tr>\n",
              "    <tr>\n",
              "      <th>1</th>\n",
              "      <td>2020</td>\n",
              "      <td>Marcus Stoinis</td>\n",
              "      <td>13</td>\n",
              "      <td>29</td>\n",
              "      <td>283</td>\n",
              "      <td>1.000000</td>\n",
              "      <td>13</td>\n",
              "      <td>3</td>\n",
              "      <td>23</td>\n",
              "      <td>14</td>\n",
              "      <td>9.193846</td>\n",
              "      <td>21.769231</td>\n",
              "      <td>13.384615</td>\n",
              "    </tr>\n",
              "    <tr>\n",
              "      <th>2</th>\n",
              "      <td>2016</td>\n",
              "      <td>Ravichandran Ashwin</td>\n",
              "      <td>10</td>\n",
              "      <td>44</td>\n",
              "      <td>319</td>\n",
              "      <td>0.714286</td>\n",
              "      <td>14</td>\n",
              "      <td>4</td>\n",
              "      <td>22</td>\n",
              "      <td>10</td>\n",
              "      <td>7.612857</td>\n",
              "      <td>31.900000</td>\n",
              "      <td>26.400000</td>\n",
              "    </tr>\n",
              "    <tr>\n",
              "      <th>3</th>\n",
              "      <td>2016</td>\n",
              "      <td>Mitchell McClenaghan</td>\n",
              "      <td>17</td>\n",
              "      <td>52</td>\n",
              "      <td>436</td>\n",
              "      <td>1.214286</td>\n",
              "      <td>14</td>\n",
              "      <td>4</td>\n",
              "      <td>47</td>\n",
              "      <td>16</td>\n",
              "      <td>8.202143</td>\n",
              "      <td>25.647059</td>\n",
              "      <td>18.352941</td>\n",
              "    </tr>\n",
              "    <tr>\n",
              "      <th>4</th>\n",
              "      <td>2016</td>\n",
              "      <td>Harbhajan Singh</td>\n",
              "      <td>9</td>\n",
              "      <td>49</td>\n",
              "      <td>392</td>\n",
              "      <td>0.642857</td>\n",
              "      <td>14</td>\n",
              "      <td>2</td>\n",
              "      <td>28</td>\n",
              "      <td>16</td>\n",
              "      <td>8.112857</td>\n",
              "      <td>43.555556</td>\n",
              "      <td>32.666667</td>\n",
              "    </tr>\n",
              "  </tbody>\n",
              "</table>\n",
              "</div>\n",
              "      <button class=\"colab-df-convert\" onclick=\"convertToInteractive('df-44e12569-9485-4063-b124-8efd010b57d4')\"\n",
              "              title=\"Convert this dataframe to an interactive table.\"\n",
              "              style=\"display:none;\">\n",
              "        \n",
              "  <svg xmlns=\"http://www.w3.org/2000/svg\" height=\"24px\"viewBox=\"0 0 24 24\"\n",
              "       width=\"24px\">\n",
              "    <path d=\"M0 0h24v24H0V0z\" fill=\"none\"/>\n",
              "    <path d=\"M18.56 5.44l.94 2.06.94-2.06 2.06-.94-2.06-.94-.94-2.06-.94 2.06-2.06.94zm-11 1L8.5 8.5l.94-2.06 2.06-.94-2.06-.94L8.5 2.5l-.94 2.06-2.06.94zm10 10l.94 2.06.94-2.06 2.06-.94-2.06-.94-.94-2.06-.94 2.06-2.06.94z\"/><path d=\"M17.41 7.96l-1.37-1.37c-.4-.4-.92-.59-1.43-.59-.52 0-1.04.2-1.43.59L10.3 9.45l-7.72 7.72c-.78.78-.78 2.05 0 2.83L4 21.41c.39.39.9.59 1.41.59.51 0 1.02-.2 1.41-.59l7.78-7.78 2.81-2.81c.8-.78.8-2.07 0-2.86zM5.41 20L4 18.59l7.72-7.72 1.47 1.35L5.41 20z\"/>\n",
              "  </svg>\n",
              "      </button>\n",
              "      \n",
              "  <style>\n",
              "    .colab-df-container {\n",
              "      display:flex;\n",
              "      flex-wrap:wrap;\n",
              "      gap: 12px;\n",
              "    }\n",
              "\n",
              "    .colab-df-convert {\n",
              "      background-color: #E8F0FE;\n",
              "      border: none;\n",
              "      border-radius: 50%;\n",
              "      cursor: pointer;\n",
              "      display: none;\n",
              "      fill: #1967D2;\n",
              "      height: 32px;\n",
              "      padding: 0 0 0 0;\n",
              "      width: 32px;\n",
              "    }\n",
              "\n",
              "    .colab-df-convert:hover {\n",
              "      background-color: #E2EBFA;\n",
              "      box-shadow: 0px 1px 2px rgba(60, 64, 67, 0.3), 0px 1px 3px 1px rgba(60, 64, 67, 0.15);\n",
              "      fill: #174EA6;\n",
              "    }\n",
              "\n",
              "    [theme=dark] .colab-df-convert {\n",
              "      background-color: #3B4455;\n",
              "      fill: #D2E3FC;\n",
              "    }\n",
              "\n",
              "    [theme=dark] .colab-df-convert:hover {\n",
              "      background-color: #434B5C;\n",
              "      box-shadow: 0px 1px 3px 1px rgba(0, 0, 0, 0.15);\n",
              "      filter: drop-shadow(0px 1px 2px rgba(0, 0, 0, 0.3));\n",
              "      fill: #FFFFFF;\n",
              "    }\n",
              "  </style>\n",
              "\n",
              "      <script>\n",
              "        const buttonEl =\n",
              "          document.querySelector('#df-44e12569-9485-4063-b124-8efd010b57d4 button.colab-df-convert');\n",
              "        buttonEl.style.display =\n",
              "          google.colab.kernel.accessAllowed ? 'block' : 'none';\n",
              "\n",
              "        async function convertToInteractive(key) {\n",
              "          const element = document.querySelector('#df-44e12569-9485-4063-b124-8efd010b57d4');\n",
              "          const dataTable =\n",
              "            await google.colab.kernel.invokeFunction('convertToInteractive',\n",
              "                                                     [key], {});\n",
              "          if (!dataTable) return;\n",
              "\n",
              "          const docLinkHtml = 'Like what you see? Visit the ' +\n",
              "            '<a target=\"_blank\" href=https://colab.research.google.com/notebooks/data_table.ipynb>data table notebook</a>'\n",
              "            + ' to learn more about interactive tables.';\n",
              "          element.innerHTML = '';\n",
              "          dataTable['output_type'] = 'display_data';\n",
              "          await google.colab.output.renderOutput(dataTable, element);\n",
              "          const docLink = document.createElement('div');\n",
              "          docLink.innerHTML = docLinkHtml;\n",
              "          element.appendChild(docLink);\n",
              "        }\n",
              "      </script>\n",
              "    </div>\n",
              "  </div>\n",
              "  "
            ]
          },
          "metadata": {},
          "execution_count": 6
        }
      ]
    },
    {
      "cell_type": "code",
      "source": [
        "X = bowl_df[['TotalMatches','Overs','RunsConceded','AvgWickets','AvgRate','AvgEconomyRate','StrRate']]\n",
        "y = bowl_df[['TotalWickets']]"
      ],
      "metadata": {
        "id": "caeyXbCuhG1b"
      },
      "execution_count": 7,
      "outputs": []
    },
    {
      "cell_type": "code",
      "source": [
        "X_train, X_test, y_train, y_test = train_test_split(X,y,test_size=0.2, random_state=0)"
      ],
      "metadata": {
        "id": "Gg9utcDwhfEd"
      },
      "execution_count": 8,
      "outputs": []
    },
    {
      "cell_type": "code",
      "source": [
        "bowl_model = LinearRegression()\n",
        "bowl_model.fit(X_train, y_train)"
      ],
      "metadata": {
        "colab": {
          "base_uri": "https://localhost:8080/",
          "height": 75
        },
        "id": "APlq4QaehiMw",
        "outputId": "41e9ff47-271a-49d6-908d-ee8017e74d15"
      },
      "execution_count": 9,
      "outputs": [
        {
          "output_type": "execute_result",
          "data": {
            "text/plain": [
              "LinearRegression()"
            ],
            "text/html": [
              "<style>#sk-container-id-1 {color: black;background-color: white;}#sk-container-id-1 pre{padding: 0;}#sk-container-id-1 div.sk-toggleable {background-color: white;}#sk-container-id-1 label.sk-toggleable__label {cursor: pointer;display: block;width: 100%;margin-bottom: 0;padding: 0.3em;box-sizing: border-box;text-align: center;}#sk-container-id-1 label.sk-toggleable__label-arrow:before {content: \"▸\";float: left;margin-right: 0.25em;color: #696969;}#sk-container-id-1 label.sk-toggleable__label-arrow:hover:before {color: black;}#sk-container-id-1 div.sk-estimator:hover label.sk-toggleable__label-arrow:before {color: black;}#sk-container-id-1 div.sk-toggleable__content {max-height: 0;max-width: 0;overflow: hidden;text-align: left;background-color: #f0f8ff;}#sk-container-id-1 div.sk-toggleable__content pre {margin: 0.2em;color: black;border-radius: 0.25em;background-color: #f0f8ff;}#sk-container-id-1 input.sk-toggleable__control:checked~div.sk-toggleable__content {max-height: 200px;max-width: 100%;overflow: auto;}#sk-container-id-1 input.sk-toggleable__control:checked~label.sk-toggleable__label-arrow:before {content: \"▾\";}#sk-container-id-1 div.sk-estimator input.sk-toggleable__control:checked~label.sk-toggleable__label {background-color: #d4ebff;}#sk-container-id-1 div.sk-label input.sk-toggleable__control:checked~label.sk-toggleable__label {background-color: #d4ebff;}#sk-container-id-1 input.sk-hidden--visually {border: 0;clip: rect(1px 1px 1px 1px);clip: rect(1px, 1px, 1px, 1px);height: 1px;margin: -1px;overflow: hidden;padding: 0;position: absolute;width: 1px;}#sk-container-id-1 div.sk-estimator {font-family: monospace;background-color: #f0f8ff;border: 1px dotted black;border-radius: 0.25em;box-sizing: border-box;margin-bottom: 0.5em;}#sk-container-id-1 div.sk-estimator:hover {background-color: #d4ebff;}#sk-container-id-1 div.sk-parallel-item::after {content: \"\";width: 100%;border-bottom: 1px solid gray;flex-grow: 1;}#sk-container-id-1 div.sk-label:hover label.sk-toggleable__label {background-color: #d4ebff;}#sk-container-id-1 div.sk-serial::before {content: \"\";position: absolute;border-left: 1px solid gray;box-sizing: border-box;top: 0;bottom: 0;left: 50%;z-index: 0;}#sk-container-id-1 div.sk-serial {display: flex;flex-direction: column;align-items: center;background-color: white;padding-right: 0.2em;padding-left: 0.2em;position: relative;}#sk-container-id-1 div.sk-item {position: relative;z-index: 1;}#sk-container-id-1 div.sk-parallel {display: flex;align-items: stretch;justify-content: center;background-color: white;position: relative;}#sk-container-id-1 div.sk-item::before, #sk-container-id-1 div.sk-parallel-item::before {content: \"\";position: absolute;border-left: 1px solid gray;box-sizing: border-box;top: 0;bottom: 0;left: 50%;z-index: -1;}#sk-container-id-1 div.sk-parallel-item {display: flex;flex-direction: column;z-index: 1;position: relative;background-color: white;}#sk-container-id-1 div.sk-parallel-item:first-child::after {align-self: flex-end;width: 50%;}#sk-container-id-1 div.sk-parallel-item:last-child::after {align-self: flex-start;width: 50%;}#sk-container-id-1 div.sk-parallel-item:only-child::after {width: 0;}#sk-container-id-1 div.sk-dashed-wrapped {border: 1px dashed gray;margin: 0 0.4em 0.5em 0.4em;box-sizing: border-box;padding-bottom: 0.4em;background-color: white;}#sk-container-id-1 div.sk-label label {font-family: monospace;font-weight: bold;display: inline-block;line-height: 1.2em;}#sk-container-id-1 div.sk-label-container {text-align: center;}#sk-container-id-1 div.sk-container {/* jupyter's `normalize.less` sets `[hidden] { display: none; }` but bootstrap.min.css set `[hidden] { display: none !important; }` so we also need the `!important` here to be able to override the default hidden behavior on the sphinx rendered scikit-learn.org. See: https://github.com/scikit-learn/scikit-learn/issues/21755 */display: inline-block !important;position: relative;}#sk-container-id-1 div.sk-text-repr-fallback {display: none;}</style><div id=\"sk-container-id-1\" class=\"sk-top-container\"><div class=\"sk-text-repr-fallback\"><pre>LinearRegression()</pre><b>In a Jupyter environment, please rerun this cell to show the HTML representation or trust the notebook. <br />On GitHub, the HTML representation is unable to render, please try loading this page with nbviewer.org.</b></div><div class=\"sk-container\" hidden><div class=\"sk-item\"><div class=\"sk-estimator sk-toggleable\"><input class=\"sk-toggleable__control sk-hidden--visually\" id=\"sk-estimator-id-1\" type=\"checkbox\" checked><label for=\"sk-estimator-id-1\" class=\"sk-toggleable__label sk-toggleable__label-arrow\">LinearRegression</label><div class=\"sk-toggleable__content\"><pre>LinearRegression()</pre></div></div></div></div></div>"
            ]
          },
          "metadata": {},
          "execution_count": 9
        }
      ]
    },
    {
      "cell_type": "code",
      "source": [
        "y_pred = bowl_model.predict(X_test)\n",
        "mse = mean_squared_error(y_test, y_pred)\n",
        "print(\"Mean Squared Error\", mse)"
      ],
      "metadata": {
        "colab": {
          "base_uri": "https://localhost:8080/"
        },
        "id": "lgDcKoeQhmvB",
        "outputId": "bd0d8540-d3bd-452f-d048-a4220d35b467"
      },
      "execution_count": 11,
      "outputs": [
        {
          "output_type": "stream",
          "name": "stdout",
          "text": [
            "Mean Squared Error 2.808570687887073\n"
          ]
        }
      ]
    },
    {
      "cell_type": "code",
      "source": [
        "print(len(y_pred))"
      ],
      "metadata": {
        "colab": {
          "base_uri": "https://localhost:8080/"
        },
        "id": "xznuOC9kn22H",
        "outputId": "e1e5d5a0-17b2-49cb-f3f7-d3bd9f3785ce"
      },
      "execution_count": 41,
      "outputs": [
        {
          "output_type": "stream",
          "name": "stdout",
          "text": [
            "276\n"
          ]
        }
      ]
    },
    {
      "cell_type": "code",
      "source": [
        "from sklearn.linear_model import LinearRegression\n",
        "r2_score = bowl_model.score(X_test,y_test)\n",
        "print(r2_score*100,'%')"
      ],
      "metadata": {
        "colab": {
          "base_uri": "https://localhost:8080/"
        },
        "id": "uSwKcYeLnp8G",
        "outputId": "f18479cc-8555-447a-990e-4c1fff8096d5"
      },
      "execution_count": 42,
      "outputs": [
        {
          "output_type": "stream",
          "name": "stdout",
          "text": [
            "92.16097958697345 %\n"
          ]
        }
      ]
    },
    {
      "cell_type": "code",
      "source": [
        "from pyspark.sql.types import *"
      ],
      "metadata": {
        "id": "o0OLahaBibgw"
      },
      "execution_count": 18,
      "outputs": []
    },
    {
      "cell_type": "code",
      "source": [
        "bowl23_schema = StructType([StructField('fullName', StringType(), True),\n",
        "  StructField('Matches', IntegerType(), True),\n",
        "  StructField('TotalMatches', IntegerType(), True),\n",
        "  StructField('Overs', FloatType(), True),\n",
        "  StructField('RunsConceded', IntegerType(), True),\n",
        "  StructField('TotalWickets', IntegerType(), True),\n",
        "  StructField('AvgRate', FloatType(), True),\n",
        "  StructField('AvgEconomyRate', FloatType(), True),\n",
        "  StructField('StrRate', FloatType(), True),\n",
        "  StructField('4w', IntegerType(), True),\n",
        "  StructField('5w', IntegerType(), True)])"
      ],
      "metadata": {
        "id": "WtTBnOU3iJv-"
      },
      "execution_count": 19,
      "outputs": []
    },
    {
      "cell_type": "code",
      "source": [
        "from pyspark.sql import SparkSession"
      ],
      "metadata": {
        "id": "Xoxm6CrViv0X"
      },
      "execution_count": 22,
      "outputs": []
    },
    {
      "cell_type": "code",
      "source": [
        "spark = SparkSession.builder.appName(\"IPL\").getOrCreate()"
      ],
      "metadata": {
        "id": "gWcxSamfitPc"
      },
      "execution_count": 23,
      "outputs": []
    },
    {
      "cell_type": "code",
      "source": [
        "curr_data = spark.read.option(\"header\",True).schema(bowl23_schema).csv(\"2023purplecap.csv\")"
      ],
      "metadata": {
        "id": "Tq3JR8UdiaPI"
      },
      "execution_count": 25,
      "outputs": []
    },
    {
      "cell_type": "code",
      "source": [
        "curr_data = curr_data.withColumn(\"AvgWickets\", curr_data['TotalWickets']/curr_data['TotalMatches'])"
      ],
      "metadata": {
        "id": "P7K766-FiidK"
      },
      "execution_count": 26,
      "outputs": []
    },
    {
      "cell_type": "code",
      "source": [
        "curr_data.show()"
      ],
      "metadata": {
        "colab": {
          "base_uri": "https://localhost:8080/"
        },
        "id": "gIhhxsryjGf0",
        "outputId": "e9c8dc70-c7ee-448e-cab8-38eacfe8cf3b"
      },
      "execution_count": 27,
      "outputs": [
        {
          "output_type": "stream",
          "name": "stdout",
          "text": [
            "+-------------------+-------+------------+-----+------------+------------+-------+--------------+-------+---+---+------------------+\n",
            "|           fullName|Matches|TotalMatches|Overs|RunsConceded|TotalWickets|AvgRate|AvgEconomyRate|StrRate| 4w| 5w|        AvgWickets|\n",
            "+-------------------+-------+------------+-----+------------+------------+-------+--------------+-------+---+---+------------------+\n",
            "|   Tushar Deshpande|     11|          11| 38.2|         396|          19|  20.84|         10.33|   12.1|  0|  0|1.7272727272727273|\n",
            "|     Mohammad Shami|     10|          10| 39.0|         274|          18|  15.22|          7.02|   13.0|  1|  0|               1.8|\n",
            "|        Rashid Khan|     10|          10| 40.0|         322|          18|  17.88|          8.05|  13.33|  0|  0|               1.8|\n",
            "|      Piyush Chawla|     10|          10| 39.0|         280|          17|  16.47|          7.17|  13.76|  0|  0|               1.7|\n",
            "|     Arshdeep Singh|     10|          10| 36.5|         361|          16|  22.56|           9.8|  13.81|  1|  0|               1.6|\n",
            "|    Ravindra Jadeja|     11|          11| 39.0|         288|          15|   19.2|          7.38|   15.6|  0|  0|1.3636363636363635|\n",
            "|     Mohammed Siraj|     10|          10| 37.0|         286|          15|  19.06|          7.72|   14.8|  1|  0|               1.5|\n",
            "|Varun Chakaravarthy|     10|          10| 37.4|         301|          14|   21.5|          7.99|  16.14|  1|  0|               1.4|\n",
            "|Ravichandran Ashwin|     10|          10| 37.0|         268|          13|  20.61|          7.24|  17.07|  0|  0|               1.3|\n",
            "|   Yuzvendra Chahal|     10|          10| 36.5|         301|          13|  23.15|          8.17|   17.0|  1|  0|               1.3|\n",
            "|       Ravi Bishnoi|     10|           9| 34.3|         268|          12|  22.33|          7.76|  17.25|  0|  0|1.3333333333333333|\n",
            "|      Harshal Patel|     10|          10| 35.3|         347|          12|  28.91|          9.77|  17.75|  0|  0|               1.2|\n",
            "|    Mayank Markande|      7|           7| 28.0|         183|          11|  16.63|          6.53|  15.27|  1|  0|1.5714285714285714|\n",
            "|          Mark Wood|      4|           4| 16.0|         130|          11|  11.81|          8.12|   8.72|  0|  1|              2.75|\n",
            "|         Noor Ahmad|      6|           6| 21.2|         150|          10|   15.0|          7.03|   12.8|  0|  0|1.6666666666666667|\n",
            "|Matheesha Pathirana|      7|           7| 27.2|         208|          10|   20.8|           7.6|   16.4|  0|  0|1.4285714285714286|\n",
            "|        Trent Boult|      8|           8| 31.0|         262|          10|   26.2|          8.45|   18.6|  0|  0|              1.25|\n",
            "|     Mitchell Marsh|      7|           6| 16.1|         131|           9|  14.55|           8.1|  10.77|  1|  0|               1.5|\n",
            "|          Moeen Ali|     10|           9| 18.0|         148|           9|  16.44|          8.22|   12.0|  1|  0|               1.0|\n",
            "|      Suyash Sharma|      7|           7| 28.0|         232|           9|  25.77|          8.28|  18.66|  0|  0|1.2857142857142858|\n",
            "+-------------------+-------+------------+-----+------------+------------+-------+--------------+-------+---+---+------------------+\n",
            "only showing top 20 rows\n",
            "\n"
          ]
        }
      ]
    },
    {
      "cell_type": "code",
      "source": [
        "curr_data.write.option(\"header\",True) \\\n",
        "        .mode(\"overwrite\") \\\n",
        "        .csv(\"transformedpurplecapdata2023\")"
      ],
      "metadata": {
        "id": "LxhM8BbAjCoR"
      },
      "execution_count": 28,
      "outputs": []
    },
    {
      "cell_type": "code",
      "source": [
        "current_data = curr_data.toPandas()"
      ],
      "metadata": {
        "id": "PyqhloWIja35"
      },
      "execution_count": 29,
      "outputs": []
    },
    {
      "cell_type": "code",
      "source": [
        "X = current_data[['TotalMatches','Overs','RunsConceded','AvgWickets','AvgRate','AvgEconomyRate','StrRate']]\n",
        "# y = bowldf[['TotalWickets']]"
      ],
      "metadata": {
        "id": "Fcx7hBEijvff"
      },
      "execution_count": 30,
      "outputs": []
    },
    {
      "cell_type": "code",
      "source": [
        "predicted_wickets = bowl_model.predict(X)"
      ],
      "metadata": {
        "id": "iuSiyINTjxUr"
      },
      "execution_count": 32,
      "outputs": []
    },
    {
      "cell_type": "code",
      "source": [
        "import numpy as np"
      ],
      "metadata": {
        "id": "YNcXIfa7j3Er"
      },
      "execution_count": 34,
      "outputs": []
    },
    {
      "cell_type": "code",
      "source": [
        "ps = np.round(predicted_wickets)"
      ],
      "metadata": {
        "id": "u4hjIeS8kFJ9"
      },
      "execution_count": 35,
      "outputs": []
    },
    {
      "cell_type": "code",
      "source": [
        "for i in range(0,len(ps)):\n",
        "  print(current_data['fullName'][i],ps[i])"
      ],
      "metadata": {
        "colab": {
          "base_uri": "https://localhost:8080/"
        },
        "id": "9WsHd09OsslE",
        "outputId": "98da901e-ec33-4c96-cd78-83ef03350483"
      },
      "execution_count": 58,
      "outputs": [
        {
          "output_type": "stream",
          "name": "stdout",
          "text": [
            "Tushar Deshpande [14.]\n",
            "Mohammad Shami [15.]\n",
            "Rashid Khan [15.]\n",
            "Piyush Chawla [15.]\n",
            "Arshdeep Singh [13.]\n",
            "Ravindra Jadeja [13.]\n",
            "Mohammed Siraj [13.]\n",
            "Varun Chakaravarthy [13.]\n",
            "Ravichandran Ashwin [12.]\n",
            "Yuzvendra Chahal [12.]\n",
            "Ravi Bishnoi [11.]\n",
            "Harshal Patel [11.]\n",
            "Mayank Markande [11.]\n",
            "Mark Wood [13.]\n",
            "Noor Ahmad [10.]\n",
            "Matheesha Pathirana [10.]\n",
            "Trent Boult [10.]\n",
            "Mitchell Marsh [8.]\n",
            "Moeen Ali [8.]\n",
            "Suyash Sharma [9.]\n",
            "Nathan Ellis [9.]\n",
            "Mohit Sharma [7.]\n",
            "Kuldeep Yadav [9.]\n",
            "Sandeep Sharma [9.]\n",
            "Bhuvneshwar Kumar [9.]\n",
            "Karn Sharma [8.]\n",
            "T Natarajan [8.]\n",
            "Marco Jansen [8.]\n",
            "Jason Behrendorff [8.]\n",
            "Naveen-ul-Haq [8.]\n",
            "Axar Patel [8.]\n",
            "Wanindu Hasaranga [7.]\n",
            "Maheesh Theekshana [8.]\n",
            "Sunil Narine [8.]\n",
            "Alzai Joseph [7.]\n",
            "Anrich Nortje [8.]\n",
            "Sam Cuan [9.]\n",
            "Riley Meredith [7.]\n",
            "Andre Russell [6.]\n",
            "Ishant Sharma [6.]\n",
            "Krunal Pandya [6.]\n",
            "Amit Mishra [6.]\n",
            "Josh Little [7.]\n",
            "Khaleel Ahmed [6.]\n",
            "Avesh Khan [6.]\n",
            "Wayne Parnell [7.]\n",
            "Vyshak Vijaykumar [6.]\n",
            "Mukesh Kumar [7.]\n",
            "Marcus Stoinis [5.]\n",
            "Yash Thakur [5.]\n",
            "Kagiso Rabada [6.]\n",
            "Adam Zampa [6.]\n",
            "Akash Singh [5.]\n",
            "Cameron Green [7.]\n",
            "Umran Malik [5.]\n",
            "Arshad Khan [5.]\n",
            "Harpreet Brar [4.]\n",
            "Jason Holder [6.]\n",
            "Shardul Thakur [4.]\n",
            "Anukul Roy [5.]\n",
            "Mitchell Santner [3.]\n",
            "David Willey [3.]\n",
            "Josh Hazlewood [5.]\n",
            "Fazalhaq Farooqi [5.]\n",
            "Hardik Pandya [3.]\n",
            "Washinon Sundar [3.]\n",
            "Rahul Chahar [5.]\n",
            "Arjun Tendulkar [3.]\n",
            "Hrithik Shokeen [3.]\n",
            "Rajvardhan Hangargekar [5.]\n",
            "Sikandar Raza [3.]\n",
            "Nitish Rana [1.]\n",
            "Harshit Rana [2.]\n",
            "Krishnappa Gowtham [1.]\n",
            "Kumar Kartikeya Singh [1.]\n",
            "Adil Rashid [2.]\n",
            "Yudhvir Singh [2.]\n",
            "Jofra Archer [2.]\n",
            "Deepak Chahar [2.]\n",
            "Glenn Maxwell [2.]\n",
            "Michael Bracewell [2.]\n",
            "Vaibhav Arora [2.]\n",
            "Tim Southee [3.]\n",
            "Chetan Sakariya [6.]\n",
            "Liam Livingstone [1.]\n",
            "Kulwant Khejroliya [2.]\n",
            "Kuldip Yadav [1.]\n",
            "Lalit Yadav [-2.]\n",
            "Reece Topley [1.]\n",
            "Tristan Stubbs [1.]\n",
            "Aiden Markram [-1.]\n",
            "Sisanda Magala [-1.]\n",
            "Abhishek Sharma [1.]\n",
            "Rishi Dhawan [-1.]\n",
            "Rovman Powell [1.]\n",
            "Umesh Yadav [1.]\n",
            "Akeal Hosein [1.]\n",
            "Akash Madhwal [-0.]\n",
            "Mustafizur Rahman [0.]\n",
            "Akash Deep [0.]\n",
            "Lockie Ferguson [1.]\n",
            "Duan Jansen [2.]\n",
            "Kartik Tyagi [2.]\n"
          ]
        }
      ]
    },
    {
      "cell_type": "code",
      "source": [],
      "metadata": {
        "colab": {
          "base_uri": "https://localhost:8080/"
        },
        "id": "Oy2-wlArtY5A",
        "outputId": "0a6a9d6d-6db4-40d9-e2bf-20801294cdcd"
      },
      "execution_count": 49,
      "outputs": [
        {
          "output_type": "stream",
          "name": "stdout",
          "text": [
            "Kartik Tyagi [2.]\n"
          ]
        }
      ]
    },
    {
      "cell_type": "code",
      "source": [
        "purple_cap_winner_index = ps.argmax()"
      ],
      "metadata": {
        "id": "RKgoHoEYkHoW"
      },
      "execution_count": 36,
      "outputs": []
    },
    {
      "cell_type": "code",
      "source": [
        "pcw = current_data.iloc[purple_cap_winner_index]"
      ],
      "metadata": {
        "id": "dYP7sctBkLSB"
      },
      "execution_count": 37,
      "outputs": []
    },
    {
      "cell_type": "code",
      "source": [
        "print(current_data['fullName'][purple_cap_winner_index])\n"
      ],
      "metadata": {
        "colab": {
          "base_uri": "https://localhost:8080/"
        },
        "id": "bt6s9ajAkTP6",
        "outputId": "8f8185f2-2b0b-4258-c885-3ba531eac541"
      },
      "execution_count": 43,
      "outputs": [
        {
          "output_type": "stream",
          "name": "stdout",
          "text": [
            "Mohammad Shami\n"
          ]
        }
      ]
    },
    {
      "cell_type": "code",
      "source": [],
      "metadata": {
        "id": "z6nGC-uUkezL"
      },
      "execution_count": null,
      "outputs": []
    }
  ]
}